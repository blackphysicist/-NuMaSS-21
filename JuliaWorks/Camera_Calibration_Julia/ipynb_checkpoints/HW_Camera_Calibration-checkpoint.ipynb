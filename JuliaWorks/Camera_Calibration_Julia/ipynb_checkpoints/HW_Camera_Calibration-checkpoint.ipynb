{
 "cells": [
  {
   "cell_type": "markdown",
   "metadata": {},
   "source": [
    "Unversity of Michigan ROB 101 - Computational Linear Algebra"
   ]
  },
  {
   "cell_type": "markdown",
   "metadata": {},
   "source": [
    "# Camera Calibration Project "
   ]
  },
  {
   "cell_type": "markdown",
   "metadata": {},
   "source": [
    "Please read Course Notebook **_Appendix B: Pinhole Camera Model_** and the following text to get yourself ready for this project."
   ]
  },
  {
   "cell_type": "markdown",
   "metadata": {},
   "source": [
    "## Quick Review"
   ]
  },
  {
   "cell_type": "markdown",
   "metadata": {},
   "source": [
    "Recall from the notebook that intrinsic matrix $K$\n",
    "\n",
    "$$K = \\left[\\begin{array}{ccc} f s_x & k s_y & u_0 \\\\0 & f s_y & v_0 \\\\ 0 & 0 & 1 \\end{array}\\right] = \\left[\\begin{array}{ccc} \\alpha & s & u_0 \\\\0 & \\beta & v_0 \\\\ 0 & 0 & 1 \\end{array}\\right]$$\n",
    "\n",
    "contains 5 intrinsic parameters of the specific camera model. These parameters encompass focal length $f$, image sensor format, and principal point. The parameters $\\alpha = fs_x$, and $\\beta = fs_y$ represent focal length in terms of pixels, where $s_x$ and $s_y$ are the scale factors relating pixels to distance.  $k$ is the ration of shear in the y direction to that in x, and $s$ represents the skew coefficient between the $x$ and $y$ axis. $s$ is often 0. $(u_0, v_0)$ represents the principal point, which would be ideally in the center of the image.\n"
   ]
  },
  {
   "cell_type": "markdown",
   "metadata": {},
   "source": [
    "The intrinsic matrix can be used to transform 2D camera coordinates $(x^c, y^c)$ into image plane coordinates $(u, v)$:\n",
    "\n",
    "$$\\left[\\begin{array}{c} u \\\\ v \\\\ 1 \\end{array}\\right] = K\\left[\\begin{array}{c} x^c \\\\ y^c \\\\ 1 \\end{array}\\right]$$"
   ]
  },
  {
   "cell_type": "markdown",
   "metadata": {},
   "source": [
    "As we have mentioned in Appendix, the intrinsic matrix $K$ could be computed if image coordinates and the corresponding camera coordinates of a set of points are given. "
   ]
  },
  {
   "cell_type": "markdown",
   "metadata": {},
   "source": [
    "## Brief Introduction of Camera Calibration"
   ]
  },
  {
   "cell_type": "markdown",
   "metadata": {},
   "source": [
    "**In practice, one of the most useful applications of the camera calibration is to obtain the intrinsic matrix.** All experimental techniques for calibrating a camera begin with photographing an object of known geometry with the camera to be calibrated. The idea is to get a number of correspondences between points in the world position, i.e. 3-D coordinates, and the pixel coordinates of their image in the camera are known. Either the object or the camera is moving around to get different world positions. \n",
    "\n",
    " <table>\n",
    " <tr>\n",
    "    <td> <img src=\"images/camera_calibration/camera_calibration_movingBoard.jpg\" alt=\"camera_calibration\" width=\"450\"/> </td>\n",
    "    <td> <img src=\"images/camera_calibration/camera_calibration_movingCamera.jpg\" alt=\"camera_calibration\" width=\"450\"/> </td>\n",
    " </tr>\n",
    "    </table>"
   ]
  },
  {
   "cell_type": "markdown",
   "metadata": {},
   "source": [
    "**IN THIS PROJECT**, we use a checkerboard to calibrate the cameras. The calibration procedure involves placing the camera before the grid in several different orientations. Pictures were captured for every orientation. The image coordinates are obtained by detecting corners of each grid in every picture (using corner detection computer vision techniques). The more pictures we have, the more equations we get for camera parameters. The camera coordinates are obtained from transforming the world coordinates of the checkerboard corner to the camera frame:\n",
    "\n",
    "$$\\left[\\begin{array}{c} u \\\\ v \\\\ 1 \\end{array}\\right] = \\frac{1}{Z_c} K \\left[\\begin{array}{c} X^c \\\\ Y^c \\\\ Z^c \\end{array}\\right] =\\frac{1}{Z_c} K \\left[\\begin{array}{cc} R & T \\\\ \\textbf{0} & 1 \\end{array}\\right]  \\left[\\begin{array}{c} X^w \\\\ Y^w \\\\ Z^w \\\\ 1\\end{array}\\right] \\implies \\left[\\begin{array}{c} u \\\\v \\\\ 1 \\end{array}\\right] =\\left[\\begin{array}{ccc} \\alpha & s & u_0 \\\\0 & \\beta & v_0 \\\\ 0 & 0 & 1 \\end{array}\\right]\\left[\\begin{array}{c} x^c \\\\y^c \\\\ 1 \\end{array}\\right]$$\n"
   ]
  },
  {
   "cell_type": "markdown",
   "metadata": {},
   "source": [
    "The world coordinates of the checkerboard corners are known by measuring the length of a side before the calibration process. In this project, we directly give you the extrinsic matrix of the camera, so that you can obtain camera coordinates of the checkerboard corners by multiplying the world coordinates and the extrinsic parameters of each camera view."
   ]
  },
  {
   "cell_type": "markdown",
   "metadata": {},
   "source": [
    "## Problem to Solve"
   ]
  },
  {
   "cell_type": "markdown",
   "metadata": {},
   "source": [
    "Now, given 2 pictures of a checkerboard taken by a pinhole camera from different views, obtain the image coordinates of a set of corner points you want to use by moving your pointer to them. Record those points coordinates. Then use the corresponding points to form a system of equations to solve the camera intrinsic matrix. \n",
    "\n",
    " <table>\n",
    " <tr>\n",
    "    <td> <img src=\"images/images/image01.jpg\" alt=\"checkboard1\" width=\"400\"/> </td>\n",
    "    <td> <img src=\"images/images/image02.jpg\" alt=\"checkboard2\" width=\"400\"/> </td>\n",
    " </tr>\n",
    "    </table>\n",
    "    "
   ]
  },
  {
   "cell_type": "markdown",
   "metadata": {},
   "source": [
    "### Initialization cell -- Run this first"
   ]
  },
  {
   "cell_type": "code",
   "execution_count": null,
   "metadata": {},
   "outputs": [],
   "source": [
    "using Plots, Images, ImageView, MAT\n",
    "gr()"
   ]
  },
  {
   "cell_type": "markdown",
   "metadata": {},
   "source": [
    "### Load pictures and select points\n",
    "Load pictures and record 10 points in total. Please remeber the positions of the points in checkerboard."
   ]
  },
  {
   "cell_type": "code",
   "execution_count": null,
   "metadata": {},
   "outputs": [],
   "source": [
    "# Load the first image, and record the points\n",
    "im1 = load(\"images/images/image01.jpg\")\n",
    "imshow(im1)"
   ]
  },
  {
   "cell_type": "code",
   "execution_count": null,
   "metadata": {},
   "outputs": [],
   "source": [
    "# Load the second image, and record the points\n",
    "im2 = load(\"images/images/image02.jpg\")\n",
    "imshow(im2)"
   ]
  },
  {
   "cell_type": "markdown",
   "metadata": {},
   "source": [
    "Now, find the corresponding points of your selected points in the standard checkerboard image, and record them."
   ]
  },
  {
   "cell_type": "code",
   "execution_count": null,
   "metadata": {},
   "outputs": [],
   "source": [
    "# Load the standard checkerboard iamge, and record the points\n",
    "# The starting point of the checkerboard should be (0, 0), each grid is 29 * 29\n",
    "checkerboard = load(\"images/camera_calibration/checkerboard.png\")\n",
    "imshow(checkerboard)"
   ]
  },
  {
   "cell_type": "markdown",
   "metadata": {},
   "source": [
    "### Compute camera coordinates\n",
    "Now, we have the image coordinates and their world coordinates. We need to obtain their camera coordinates by multiplying world coordinates by extrinsic matrix. Extrinsic matrix for each image is provided."
   ]
  },
  {
   "cell_type": "code",
   "execution_count": null,
   "metadata": {},
   "outputs": [],
   "source": [
    "# Extrinsic matrix for image 1\n",
    "extrinsic_1 = [0.9145,  -0.2972, 0.2745,   -146.05158;\n",
    "               0.4014,  0.7523,  -0.5224,  -26.8684;\n",
    "               -0.0513, 0.5879,  0.8073,   797.9027;\n",
    "               0,       0,       0,        1]\n",
    "# Extrinsic matrix for image 2\n",
    "extrinsic_2 = [0.9769,    0.2125,    0.0222,    -209.4357;\n",
    "               -0.1434,   0.7290,    -0.6693,   -59.45663;\n",
    "               -0.1584,   0.6507,    0.7426,    921.8198;\n",
    "               0,         0,         0,         1]\n",
    "################## start here ####################\n",
    "# Put the world coordinates of your points here\n",
    "# For image 1\n",
    "numPoints_1 = ? # depends on how many points you choose in image 1\n",
    "worldPoints_1 = [???]  # put world coordinates of the points here\n",
    "worldPoints_3d_1 = [worldPoints_1';??;??]  # Suppose Z = 0, worldPoints_3d_1 should be in homogeneous form\n",
    "cameraPoints_1 = ?? * ??\n",
    "\n",
    "# For image 2\n",
    "numPoints_2 = ? # depends on how many points you choose in image 1\n",
    "worldPoints_2 = [???]  # put world coordinates of the points here\n",
    "worldPoints_3d_2 = [worldPoints_2';??;??]  # Suppose Z = 0, worldPoints_3d_1 should be in homogeneous form\n",
    "cameraPoints_2 = ?? * ??\n",
    "\n",
    "# Put camera coordinates for both image together\n",
    "cameraPoints = hcat(cameraPoints_1, cameraPoints_2)\n",
    "cameraPoints = ?? ./ ??  # normalize camera coordinates"
   ]
  },
  {
   "cell_type": "markdown",
   "metadata": {},
   "source": [
    "### Compute camera intrinsic matrix\n",
    "With camera coordinates and image coordinates of 10 groups of corresponding points, we can calculate the intrinsic matrix of camera by linear regression. Recall what you read in Appendix B, and finish the code below."
   ]
  },
  {
   "cell_type": "code",
   "execution_count": null,
   "metadata": {},
   "outputs": [],
   "source": [
    "# size of A and b\n",
    "numPoints = ?  # number of points in total\n",
    "A = zeros(??, ??)\n",
    "b = zeros(??, ??) \n",
    "for i=1:numPoints\n",
    "    ####################### Try to compose A and b #########################\n",
    "    # You can write as many code as you need, no need follow the given lines\n",
    "    A(??, ??) = ??\n",
    "    b(??, ??) = ??\n",
    "end\n",
    "# Compute intrinsic matrix by linear regression\n",
    "intrinsic = ??\n",
    "# Rewrite the intrinsic matrix in a proper way\n",
    "intrinsic = [intrinsic(1), intrinsic(2), intrinsic(3);\n",
    "             intrinsic(4), intrinsic(5), intrinsic(6);\n",
    "             0,            0,         ,  1];\n",
    "disp(\"Our own linear regression intrinsic is \")\n",
    "@show intrinsic"
   ]
  },
  {
   "cell_type": "code",
   "execution_count": null,
   "metadata": {},
   "outputs": [],
   "source": [
    "# Check whether the intrinsic matrix works or not\n",
    "# Load points to check, the size of data is 3 * 54 (Homegenous form already)\n",
    "# (3 coordinates each point, 54 points in image 2)\n",
    "file = matopen(\"check_points_image_plane.mat\")\n",
    "checkPoints = read(file, \"points_3d_vis\") \n",
    "close(file)\n",
    "checkPoints_pixel = intrinsic * checkPoints  # Transfer points in camera frame to pixel frame\n",
    "plot(im2)\n",
    "scatter!(checkPoints_pixel[1, :], checkPoints_pixel[2, :], leg=false)\n",
    "# If the points coordinates well with the corners of the checkerboard, you did a great job!"
   ]
  },
  {
   "cell_type": "markdown",
   "metadata": {},
   "source": [
    "### Congratulations! You have computed the intrinsic matrix by your own!\n",
    "However, you may have noticed that compute the intrinsic matrix manually is both tedious and inaccurate. In real life, we extract the corner points coordinates by feature detection algorithms, and then do the calculations. The algorithms are out of scope at current course, but I will give you the points obtained by such algorithms. Please compute the intrinsic matrix by the given data, and compare it with our own data result."
   ]
  },
  {
   "cell_type": "code",
   "execution_count": null,
   "metadata": {},
   "outputs": [],
   "source": [
    "# Read camera points, the size of the data is 54 * 2 * 9 \n",
    "#(54 points each image, 2 coordinates each point, 9 images)\n",
    "file = matopen(\"checkerboard_2d_corners_for_image_plane.mat\")\n",
    "imagePoints = read(file, \"imagePoints\") \n",
    "close(file)\n",
    "\n",
    "# Read world points in camera frame, the size of the data is 3 * 54 * 9\n",
    "#(3 coordinates each point, 54 points each image, 9 images)\n",
    "file = matopen(\"checkerboard_3d_corners_for_each_camera.mat\")\n",
    "cameraPoints = read(file, \"points_for_students\") \n",
    "close(file)"
   ]
  },
  {
   "cell_type": "markdown",
   "metadata": {},
   "source": [
    "Now compute the camera intrinsic matrix based on the data given."
   ]
  },
  {
   "cell_type": "code",
   "execution_count": null,
   "metadata": {},
   "outputs": [],
   "source": [
    "numPoints = 54  # total points in each image\n",
    "num_images = 9  # total images for test\n",
    "A = zeros(2*numPoints*num_images, 6);\n",
    "b = zeros(2 * numPoints*num_images, 1); \n",
    "########### Transfer imagePoints and cameraPoints to homogenous form first #############\n",
    "imagePoints = ??\n",
    "cameraPoints = ??\n",
    "\n",
    "for i=1:numPoints\n",
    "    ####################### Try to compose A and b #########################\n",
    "    # You can write as many code as you need, no need follow the given lines\n",
    "    A(??, ??) = ??\n",
    "    b(??, ??) = ??\n",
    "end\n",
    "# Compute intrinsic matrix by linear regression\n",
    "intrinsic = ??\n",
    "# Rewrite the intrinsic matrix in a proper way\n",
    "intrinsic = [intrinsic(1), intrinsic(2), intrinsic(3);\n",
    "             intrinsic(4), intrinsic(5), intrinsic(6);\n",
    "             0,            0,         ,  1];\n",
    "disp(\"Linear regression intrinsic on more data is \")\n",
    "@show intrinsic"
   ]
  },
  {
   "cell_type": "code",
   "execution_count": null,
   "metadata": {},
   "outputs": [],
   "source": [
    "# Check whether the intrinsic matrix works or not\n",
    "# Load points to check, the size of data is 3 * 54 (Homegenous form already)\n",
    "# (3 coordinates each point, 54 points in image 2)\n",
    "file = matopen(\"check_points_image_plane.mat\")\n",
    "checkPoints = read(file, \"points_3d_vis\") \n",
    "close(file)\n",
    "checkPoints_pixel = intrinsic * checkPoints  # Transfer points in camera frame to pixel frame\n",
    "plot(im2)\n",
    "scatter!(checkPoints_pixel[1, :], checkPoints_pixel[2, :], leg=false)\n",
    "# If the points coordinates well with the corners of the checkerboard, you did a great job!"
   ]
  }
 ],
 "metadata": {
  "@webio": {
   "lastCommId": null,
   "lastKernelId": null
  },
  "kernelspec": {
   "display_name": "Julia 1.4.2",
   "language": "julia",
   "name": "julia-1.4"
  },
  "language_info": {
   "file_extension": ".jl",
   "mimetype": "application/julia",
   "name": "julia",
   "version": "1.4.2"
  }
 },
 "nbformat": 4,
 "nbformat_minor": 4
}
