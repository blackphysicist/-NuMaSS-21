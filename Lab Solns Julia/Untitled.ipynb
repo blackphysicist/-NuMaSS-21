{
 "cells": [
  {
   "cell_type": "code",
   "execution_count": 7,
   "id": "ef3fcb23-6bf0-4986-9f43-784843af4796",
   "metadata": {},
   "outputs": [
    {
     "data": {
      "text/plain": [
       "4×4 Matrix{Float64}:\n",
       " -0.25      0.5        -0.5   0.5\n",
       " -1.36111   1.94444    -1.5   1.27778\n",
       "  0.111111  0.0555556   0.0  -0.277778\n",
       " -0.166667  0.166667    0.0   0.166667"
      ]
     },
     "execution_count": 7,
     "metadata": {},
     "output_type": "execute_result"
    }
   ],
   "source": [
    "using LinearAlgebra\n",
    "M = [6 -2 4 4; 3 -1 5 7;\n",
    "    1 -1 2 8; 3 -1 -1 3]\n",
    "inv(M)"
   ]
  },
  {
   "cell_type": "code",
   "execution_count": 8,
   "id": "c024fc4d-3b91-4484-935e-110a44823e76",
   "metadata": {},
   "outputs": [
    {
     "data": {
      "text/plain": [
       "LU{Float64, Matrix{Float64}}\n",
       "L factor:\n",
       "4×4 Matrix{Float64}:\n",
       " 1.0        0.0   0.0  0.0\n",
       " 0.166667   1.0   0.0  0.0\n",
       " 0.5       -0.0   1.0  0.0\n",
       " 0.5       -0.0  -1.0  1.0\n",
       "U factor:\n",
       "4×4 Matrix{Float64}:\n",
       " 6.0  -2.0       4.0      4.0\n",
       " 0.0  -0.666667  1.33333  7.33333\n",
       " 0.0   0.0       3.0      5.0\n",
       " 0.0   0.0       0.0      6.0"
      ]
     },
     "execution_count": 8,
     "metadata": {},
     "output_type": "execute_result"
    }
   ],
   "source": [
    "F = lu(M)"
   ]
  },
  {
   "cell_type": "code",
   "execution_count": 9,
   "id": "2a7be522-35e7-4965-b38a-97803e4c034f",
   "metadata": {},
   "outputs": [
    {
     "data": {
      "text/plain": [
       "4×4 Matrix{Float64}:\n",
       "  1.0          -3.33067e-16  4.44089e-16  -1.11022e-16\n",
       " -2.22045e-16   0.0          1.0           2.22045e-16\n",
       "  0.0           1.0          2.22045e-16   0.0\n",
       "  1.11022e-16  -2.22045e-16  2.22045e-16   1.0"
      ]
     },
     "execution_count": 9,
     "metadata": {},
     "output_type": "execute_result"
    }
   ],
   "source": [
    "F.L * F.U * inv(M)"
   ]
  },
  {
   "cell_type": "code",
   "execution_count": 4,
   "id": "3cdf3511-af07-4fe9-87f1-69f642e7c6d3",
   "metadata": {},
   "outputs": [
    {
     "data": {
      "text/plain": [
       "4×4 Matrix{Float64}:\n",
       " 6.0  -2.0   4.0  4.0\n",
       " 1.0  -1.0   2.0  8.0\n",
       " 3.0  -1.0   5.0  7.0\n",
       " 3.0  -1.0  -1.0  3.0"
      ]
     },
     "execution_count": 4,
     "metadata": {},
     "output_type": "execute_result"
    }
   ],
   "source": [
    "F.P * M"
   ]
  },
  {
   "cell_type": "code",
   "execution_count": 5,
   "id": "1b0ce6e3-2a02-4e17-aa21-392bd55ab47a",
   "metadata": {},
   "outputs": [
    {
     "data": {
      "text/plain": [
       "true"
      ]
     },
     "execution_count": 5,
     "metadata": {},
     "output_type": "execute_result"
    }
   ],
   "source": [
    "F.L * F.U == F.P * M"
   ]
  },
  {
   "cell_type": "code",
   "execution_count": 10,
   "id": "1a44473f-8d2c-48c6-8740-d0974bf73679",
   "metadata": {},
   "outputs": [
    {
     "data": {
      "text/plain": [
       "4×3 Matrix{Int64}:\n",
       " 1   0   2\n",
       " 2  -2   6\n",
       " 3   4   2\n",
       " 1   5  -3"
      ]
     },
     "execution_count": 10,
     "metadata": {},
     "output_type": "execute_result"
    }
   ],
   "source": [
    "A = [1 0 2; 2 -2 6; 3 4 2; 1 5 -3]"
   ]
  },
  {
   "cell_type": "code",
   "execution_count": 11,
   "id": "42168c9d-a07d-4d9e-8d47-f8902409b45b",
   "metadata": {},
   "outputs": [
    {
     "data": {
      "text/plain": [
       "3×4 adjoint(::Matrix{Int64}) with eltype Int64:\n",
       " 1   2  3   1\n",
       " 0  -2  4   5\n",
       " 2   6  2  -3"
      ]
     },
     "execution_count": 11,
     "metadata": {},
     "output_type": "execute_result"
    }
   ],
   "source": [
    "A'"
   ]
  },
  {
   "cell_type": "code",
   "execution_count": 12,
   "id": "4457cc6b-4b97-4c3a-b2fd-7db2a511024f",
   "metadata": {},
   "outputs": [
    {
     "data": {
      "text/plain": [
       "3×3 Matrix{Int64}:\n",
       " 15   13   17\n",
       " 13   45  -19\n",
       " 17  -19   53"
      ]
     },
     "execution_count": 12,
     "metadata": {},
     "output_type": "execute_result"
    }
   ],
   "source": [
    "N = A'*A"
   ]
  },
  {
   "cell_type": "code",
   "execution_count": 13,
   "id": "93b4a58a-a40e-43f7-850f-5bd77bab4298",
   "metadata": {},
   "outputs": [
    {
     "data": {
      "text/plain": [
       "LU{Float64, Matrix{Float64}}\n",
       "L factor:\n",
       "3×3 Matrix{Float64}:\n",
       " 1.0       0.0  0.0\n",
       " 0.764706  1.0  0.0\n",
       " 0.882353  0.5  1.0\n",
       "U factor:\n",
       "3×3 Matrix{Float64}:\n",
       " 17.0  -19.0      53.0\n",
       "  0.0   59.5294  -59.5294\n",
       "  0.0    0.0      -3.55271e-15"
      ]
     },
     "execution_count": 13,
     "metadata": {},
     "output_type": "execute_result"
    }
   ],
   "source": [
    "F = lu(N)"
   ]
  },
  {
   "cell_type": "code",
   "execution_count": 14,
   "id": "08f7825c-76b0-4ce3-b736-7a0c3cc8b841",
   "metadata": {},
   "outputs": [
    {
     "data": {
      "text/plain": [
       "3×3 Matrix{Float64}:\n",
       " 17.0  -19.0   53.0\n",
       " 13.0   45.0  -19.0\n",
       " 15.0   13.0   17.0"
      ]
     },
     "execution_count": 14,
     "metadata": {},
     "output_type": "execute_result"
    }
   ],
   "source": [
    "F.P * N"
   ]
  },
  {
   "cell_type": "code",
   "execution_count": 15,
   "id": "209b3f9f-7654-42f4-862b-6a604216f5e0",
   "metadata": {},
   "outputs": [
    {
     "data": {
      "text/plain": [
       "3×3 Matrix{Float64}:\n",
       " 1.0       0.0  0.0\n",
       " 0.764706  1.0  0.0\n",
       " 0.882353  0.5  1.0"
      ]
     },
     "execution_count": 15,
     "metadata": {},
     "output_type": "execute_result"
    }
   ],
   "source": [
    "F.L"
   ]
  },
  {
   "cell_type": "code",
   "execution_count": 16,
   "id": "700700fe-e98e-494d-833d-96ced9d74c48",
   "metadata": {},
   "outputs": [
    {
     "data": {
      "text/plain": [
       "3×3 Matrix{Float64}:\n",
       " 17.0  -19.0      53.0\n",
       "  0.0   59.5294  -59.5294\n",
       "  0.0    0.0      -3.55271e-15"
      ]
     },
     "execution_count": 16,
     "metadata": {},
     "output_type": "execute_result"
    }
   ],
   "source": [
    "F.U"
   ]
  },
  {
   "cell_type": "code",
   "execution_count": null,
   "id": "8233aa98-dd18-40f8-a0fb-def94b778457",
   "metadata": {},
   "outputs": [],
   "source": []
  }
 ],
 "metadata": {
  "kernelspec": {
   "display_name": "Julia nodeps 1.7.1",
   "language": "julia",
   "name": "julia-nodeps-1.7"
  },
  "language_info": {
   "file_extension": ".jl",
   "mimetype": "application/julia",
   "name": "julia",
   "version": "1.7.1"
  }
 },
 "nbformat": 4,
 "nbformat_minor": 5
}
