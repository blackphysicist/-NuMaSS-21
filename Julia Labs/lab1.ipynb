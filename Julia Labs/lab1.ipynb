{
 "cells": [
  {
   "cell_type": "markdown",
   "metadata": {
    "deletable": false,
    "editable": false,
    "nbgrader": {
     "cell_type": "markdown",
     "checksum": "e1219b4f78c155605f762d99604b3f84",
     "grade": false,
     "grade_id": "cell-cce1441e92a92e59",
     "locked": true,
     "schema_version": 3,
     "solution": false,
     "task": false
    }
   },
   "source": [
    "University of Michigan - ROB 101 Computational Linear Algebra"
   ]
  },
  {
   "cell_type": "markdown",
   "metadata": {
    "deletable": false,
    "editable": false,
    "nbgrader": {
     "cell_type": "markdown",
     "checksum": "0522140526c3bdf633efcb348b9f47e5",
     "grade": false,
     "grade_id": "cell-42df9f51415be180",
     "locked": true,
     "schema_version": 3,
     "solution": false,
     "task": false
    }
   },
   "source": [
    "# Julia Lab 01: How to use Julia as a Calculator\n",
    "\n",
    "#### Pupose:  Use Julia Programming to solve mathematical problems\n",
    "- Skills:\n",
    "    - Writing and reading code\n",
    "    - Simplifying tasks with computer programs\n",
    "- Knowledge to be gained:\n",
    "    - Basic math commands\n",
    "    - Types of variables in Julia\n",
    "    - Declaring and plotting functions\n",
    "    \n",
    "#### Task:\n",
    "Welcome to your first jupyter notebook experience! We will complete this assignmnet together.  \n",
    "\n",
    "Anywhere you see a \"throw(ErrorException())\", delete that line, and replace it with your own code.\n",
    "\n",
    "Sometimes, you will have to complete tasks which don't have the \"throw(ErrorException())\".  In that case, follow the instructions in the cell, and email your teachers if you have questions.  Some cells do not have any tasks for you, but are either there for you to play with, or necessary structures for some of the programming.  "
   ]
  },
  {
   "cell_type": "markdown",
   "metadata": {},
   "source": [
    "### Enable Line Numbering\n",
    "\n",
    "In labs and on homework assignments, you may come accross instructions which tell you to alter certain lines of your code. You will also need to debug your code at times based on the errors reported by Julia, which will tell you the line number at which your program failed. In order to easily alter your code, enable line numbering by clicking View > Show Line Numbers in the Jupyter Lab/Notebook toolbar. "
   ]
  },
  {
   "cell_type": "markdown",
   "metadata": {
    "deletable": false,
    "editable": false,
    "nbgrader": {
     "cell_type": "markdown",
     "checksum": "2a0fa9efca2a3897e6222a3feca2232b",
     "grade": false,
     "grade_id": "cell-42df9f51415be181",
     "locked": true,
     "schema_version": 3,
     "solution": false,
     "task": false
    }
   },
   "source": [
    "## Julia can be even more powerful than a graphing calculator if you know how to use it!\n",
    "\n",
    "\n",
    "The Basics:\n",
    "Arithmetic Operations!"
   ]
  },
  {
   "cell_type": "code",
   "execution_count": 1,
   "metadata": {},
   "outputs": [
    {
     "data": {
      "text/plain": [
       "11.620000000000001"
      ]
     },
     "execution_count": 1,
     "metadata": {},
     "output_type": "execute_result"
    }
   ],
   "source": [
    "#in a code cell, julia will compute and return operations you do inside it\n",
    "4+7.62\n",
    "#here is some basic addition"
   ]
  },
  {
   "cell_type": "code",
   "execution_count": 2,
   "metadata": {},
   "outputs": [
    {
     "data": {
      "text/plain": [
       "0.666666666666667"
      ]
     },
     "execution_count": 2,
     "metadata": {},
     "output_type": "execute_result"
    }
   ],
   "source": [
    "#this works the same way for addition(+), subtraction(-), multiplication(*), division(/) and exponentials(^)\n",
    "\n",
    "4+2/3-1*4\n",
    "\n",
    "#Julia also has a backwards division operator (\\) to divide the left by the right\n",
    "#and a (%) modulo operator, which returns the remainder from a division operation"
   ]
  },
  {
   "cell_type": "markdown",
   "metadata": {
    "deletable": false,
    "editable": false,
    "nbgrader": {
     "cell_type": "markdown",
     "checksum": "74c30cc9af488b1dcbc4265bf33dbe23",
     "grade": false,
     "grade_id": "cell-47de29a639e5f315",
     "locked": true,
     "schema_version": 3,
     "solution": false,
     "task": false
    }
   },
   "source": [
    "**Notice: Julia will do arithmetic operations in an order that follows PEMDAS**\n",
    "1. Parenthesis\n",
    "2. Exponentials (right to left)\n",
    "3. Multiplication and Division (left to right)\n",
    "4. Addition and Subrtraction(left to right)\n",
    "\n",
    "Order of operations is extremely important, and can cause errors in your code so PAY ATTENTION!\n",
    "\n",
    "### Problem 1.  Place two sets of parentheses in the below expression to make x equal to 49"
   ]
  },
  {
   "cell_type": "code",
   "execution_count": 22,
   "metadata": {},
   "outputs": [
    {
     "data": {
      "text/plain": [
       "49"
      ]
     },
     "execution_count": 22,
     "metadata": {},
     "output_type": "execute_result"
    }
   ],
   "source": [
    "#place your parenthesis here\n",
    "x = (3 + (5 * 3) + 4) / 2 * 4 + 5\n",
    "x = 49"
   ]
  },
  {
   "cell_type": "code",
   "execution_count": null,
   "metadata": {
    "deletable": false,
    "editable": false,
    "nbgrader": {
     "cell_type": "code",
     "checksum": "bb5dac6a4e12d563ea86f7c61b299c73",
     "grade": true,
     "grade_id": "problem1test",
     "locked": true,
     "points": 2,
     "schema_version": 3,
     "solution": false,
     "task": false
    }
   },
   "outputs": [],
   "source": [
    "#This is your first introduction to an autograder cell\n",
    "@assert x == 49"
   ]
  },
  {
   "cell_type": "code",
   "execution_count": null,
   "metadata": {
    "deletable": false,
    "editable": false,
    "nbgrader": {
     "cell_type": "code",
     "checksum": "74155bbd986fb4e6b051d5f1b2d8e92d",
     "grade": true,
     "grade_id": "problem1test_fail",
     "locked": true,
     "points": 0,
     "schema_version": 3,
     "solution": false,
     "task": false
    }
   },
   "outputs": [],
   "source": [
    "#This is your first introduction to an autograder cell that FAILS!\n",
    "#Notice that the assert statement is wrong... Julia won't be happy!\n",
    "@assert x == 5"
   ]
  },
  {
   "cell_type": "markdown",
   "metadata": {
    "deletable": false,
    "editable": false,
    "nbgrader": {
     "cell_type": "markdown",
     "checksum": "d9491149cb7043440fdaef2c237c0aa0",
     "grade": false,
     "grade_id": "cell-e700f01bf29416a2",
     "locked": true,
     "schema_version": 3,
     "solution": false,
     "task": false
    }
   },
   "source": [
    "**Julia also has many built in functions:**\n",
    "\n",
    "- round() #rounds to nearest integer\n",
    "- ceil() #rounds up\n",
    "- floor() #rounds down\n",
    "- trunc() #chops off anything beyond decimal point\n",
    "- abs() #absolute value\n",
    "- sin(), cos(), tan()  and asin(), acos(), atan()  #many more trigonometric functions\n",
    "- sqrt() #square root\n",
    "- exp()  #natural exponential e^x\n",
    "- log() #natural logarithm\n",
    "\n",
    "and so many more: https://docs.julialang.org/en/v1/manual/mathematical-operations/\n",
    "\n",
    "Remember, Julia is a mathematical programming language - it can do many of the mathematical programming operations that you are used to.\n",
    "\n",
    "Note: These operations will only work on numbers! In each cell, hit shift return"
   ]
  },
  {
   "cell_type": "code",
   "execution_count": 23,
   "metadata": {
    "deletable": false,
    "editable": false,
    "nbgrader": {
     "cell_type": "code",
     "checksum": "87bf272173c194744f0c65e337298cb6",
     "grade": false,
     "grade_id": "cell-c956c50b93815794",
     "locked": true,
     "schema_version": 3,
     "solution": false,
     "task": false
    }
   },
   "outputs": [
    {
     "data": {
      "text/plain": [
       "1.0"
      ]
     },
     "execution_count": 23,
     "metadata": {},
     "output_type": "execute_result"
    }
   ],
   "source": [
    "cos(2*pi)  #It assumes radians and not degrees"
   ]
  },
  {
   "cell_type": "code",
   "execution_count": 24,
   "metadata": {
    "deletable": false,
    "editable": false,
    "nbgrader": {
     "cell_type": "code",
     "checksum": "c68e8ed5a53c465076cac3c82bb415d7",
     "grade": false,
     "grade_id": "cell-202ddea9fa3b84e7",
     "locked": true,
     "schema_version": 3,
     "solution": false,
     "task": false
    }
   },
   "outputs": [
    {
     "data": {
      "text/plain": [
       "2.0"
      ]
     },
     "execution_count": 24,
     "metadata": {},
     "output_type": "execute_result"
    }
   ],
   "source": [
    "exp(log(2))  #looks correct - remember e ^ log(x) = x"
   ]
  },
  {
   "cell_type": "code",
   "execution_count": 25,
   "metadata": {},
   "outputs": [
    {
     "data": {
      "text/plain": [
       "2.0"
      ]
     },
     "execution_count": 25,
     "metadata": {},
     "output_type": "execute_result"
    }
   ],
   "source": [
    "ceil(1.5)    #note that ceil and floor always round \"predictably\""
   ]
  },
  {
   "cell_type": "code",
   "execution_count": 26,
   "metadata": {},
   "outputs": [
    {
     "data": {
      "text/plain": [
       "1.0"
      ]
     },
     "execution_count": 26,
     "metadata": {},
     "output_type": "execute_result"
    }
   ],
   "source": [
    "floor(1.5)    #for instance, floor always returns a number less than or equa to the input argument"
   ]
  },
  {
   "cell_type": "code",
   "execution_count": 27,
   "metadata": {
    "deletable": false,
    "editable": false,
    "nbgrader": {
     "cell_type": "code",
     "checksum": "fc0e6aef485da6318b27167cc054929d",
     "grade": false,
     "grade_id": "cell-fe6b0151ea814f70",
     "locked": true,
     "schema_version": 3,
     "solution": false,
     "task": false
    }
   },
   "outputs": [
    {
     "ename": "LoadError",
     "evalue": "MethodError: no method matching abs(::String)\n\u001b[0mClosest candidates are:\n\u001b[0m  abs(\u001b[91m::Bool\u001b[39m) at bool.jl:79\n\u001b[0m  abs(\u001b[91m::Unsigned\u001b[39m) at int.jl:169\n\u001b[0m  abs(\u001b[91m::Signed\u001b[39m) at int.jl:170\n\u001b[0m  ...",
     "output_type": "error",
     "traceback": [
      "MethodError: no method matching abs(::String)\n\u001b[0mClosest candidates are:\n\u001b[0m  abs(\u001b[91m::Bool\u001b[39m) at bool.jl:79\n\u001b[0m  abs(\u001b[91m::Unsigned\u001b[39m) at int.jl:169\n\u001b[0m  abs(\u001b[91m::Signed\u001b[39m) at int.jl:170\n\u001b[0m  ...",
      "",
      "Stacktrace:",
      " [1] top-level scope",
      "   @ In[27]:1",
      " [2] eval",
      "   @ ./boot.jl:360 [inlined]",
      " [3] include_string(mapexpr::typeof(REPL.softscope), mod::Module, code::String, filename::String)",
      "   @ Base ./loading.jl:1094"
     ]
    }
   ],
   "source": [
    "abs(\"hello\")  #be prepared for an error!"
   ]
  },
  {
   "cell_type": "markdown",
   "metadata": {
    "deletable": false,
    "editable": false,
    "nbgrader": {
     "cell_type": "markdown",
     "checksum": "db0f628032c2577b18ca881e9de7f69a",
     "grade": false,
     "grade_id": "cell-339b058b2acfbcad",
     "locked": true,
     "schema_version": 3,
     "solution": false,
     "task": false
    }
   },
   "source": [
    "Note: This doesn't work because \"hello\" is the wrong type of data. We can see this evidenced in the error message: it tells us \"no method matching abs(::String) because we are trying to use a function names \"abs\" that takes an argument of type \"String\" (a word, or a bunch of letters/characters). Of course, we know that you obviously can not take the absolute value of a word or letter, but Julia does not. Thus, when creating a function, checking the type of the argument (the thing we pass in to the function) helps to make sure the function works correctly."
   ]
  },
  {
   "cell_type": "markdown",
   "metadata": {},
   "source": [
    "Where did the error occur? Let us look at a slightly different cell:"
   ]
  },
  {
   "cell_type": "code",
   "execution_count": 28,
   "metadata": {},
   "outputs": [
    {
     "data": {
      "text/plain": [
       "2.909297426825682"
      ]
     },
     "execution_count": 28,
     "metadata": {},
     "output_type": "execute_result"
    }
   ],
   "source": [
    "x = abs(sin(2))\n",
    "abs(\"hello\")  #be prepared for an error!\n",
    "x = x + 2"
   ]
  },
  {
   "cell_type": "markdown",
   "metadata": {},
   "source": [
    "We have three lines in the above cell (by the way, this would be a good time to enable line numbering in View > Show Line Numbers). On the first line, we assign the variable x the absolute value of the sin of 2. On the second line, we take the absolute value of the string \"hello\". FInally, on the third line, we increment x by 2. When we run the above cell, we see that Julia is angry with us, as it tells us <code>MethodError: no method matching abs(::String)MethodError: no method matching abs(::String)</code>. But, where did this error occur? Julia tells us this if we look under the <code>Stacktrace</code> section of the error message. The top-level scope (AKA where train came off the tracks) is <code>In[some number]:2</code>. Or, in some numbered cell (the number of the cell is determined when you run the cell: if this is the first cell run in the notebook, it will be cell 1) on line 2. This is what we expected - after all, you can't take the absolute value of a string, how can a word have a sign!"
   ]
  },
  {
   "cell_type": "markdown",
   "metadata": {
    "deletable": false,
    "editable": false,
    "nbgrader": {
     "cell_type": "markdown",
     "checksum": "bd1587f688de3b02527ab5ec57bb8ddf",
     "grade": false,
     "grade_id": "cell-339b058b2acfbcae",
     "locked": true,
     "schema_version": 3,
     "solution": false,
     "task": false
    }
   },
   "source": [
    "**Every piece of data in Julia has a \"Type\"**\n",
    "\n",
    "What is a data type? I think you would be comfortable saying that numbers are different from letters. So, they should be treated differently when you work with them. Similary, a single letter is different than a sentence. \n",
    "\n",
    "So far, so good? \n",
    "\n",
    "Here is where programming languages are different than calculators: you may not have to think about numbers such as 1, 2, 3, 4, .... differently than 0.7, sqrt(2), pi, but Julia does have to handle them differently. \n",
    "\n",
    "Why? Just to make your life miserable? Not really. It's actually to make your life easier! \n",
    "\n",
    "Computers have a limited amount of memory (zeros and ones) available to represent a number. If the computer knows that the number does not require a decimal point (as in -7, 0, 1, 45, etc,) then it can store it very compactly and hence store enormously large numbers of the non-decimal TYPE. If the number requires a decimal to express it properly (such as pi, sqrt(2), 0.6) then Julia will store it in a different format. Thus, Julia is able to handle the memory needs of our code without our help, because we essentially tell Julia in advance the memory needs of our code. In Julia, formats are determined by TYPES.\n",
    "\n",
    "We will mostly use 4 of these TYPES:\n",
    "- Int64:  Integers (numbers without decimal points in them). The 64 refers to the number of 'bits', 0s and 1s, that will represent the number.\n",
    "- Float64: Floating point numbers (numbers that require decimal points)\n",
    "- Char:  Any character you can type on a keyboard, or fancy characters like 复, 制, ¤, Ð, or ϐ (declared inside ' ')\n",
    "- String: A bunch of characters in a line.  (This could be a word, or a sentence, or even a number that is in \" \")\n",
    "\n",
    "You don't usually have to worry about types because Julia will automatically choose a type that works best.  But, should you get a MethodError like the one above, check which type you are using.\n",
    "\n",
    "If you want to know more about types in Julia: https://docs.julialang.org/en/v1/manual/types/"
   ]
  },
  {
   "cell_type": "markdown",
   "metadata": {
    "deletable": false,
    "editable": false,
    "nbgrader": {
     "cell_type": "markdown",
     "checksum": "e3de312f5e9ae38dec632cd22ec4e4b4",
     "grade": false,
     "grade_id": "cell-84ec179c1fa584c3",
     "locked": true,
     "schema_version": 3,
     "solution": false,
     "task": false
    }
   },
   "source": [
    "**Solving and graphing your own functions**\n",
    "\n",
    "Julia can also help solve any equation that you input.  There are two main ways to declare a function in Julia.\n",
    "\n",
    "Let's practice with the basic linear function:  \n",
    "                                                $$y = 5x + 2$$\n",
    "\n",
    "The first one is the most simple:"
   ]
  },
  {
   "cell_type": "code",
   "execution_count": 46,
   "metadata": {},
   "outputs": [
    {
     "data": {
      "text/plain": [
       "7"
      ]
     },
     "execution_count": 46,
     "metadata": {},
     "output_type": "execute_result"
    }
   ],
   "source": [
    "f(x) = 2x + 1\n",
    "\n",
    "#now that we have it declared, we can plug in values of x\n",
    "f(3)\n",
    "\n",
    "#See that we return 17: (5 * 3) + 2"
   ]
  },
  {
   "cell_type": "markdown",
   "metadata": {
    "deletable": false,
    "editable": false,
    "nbgrader": {
     "cell_type": "markdown",
     "checksum": "ba20c4e3f5f9b0f52776efe7c6e7acf8",
     "grade": false,
     "grade_id": "cell-554847fe6f346f7d",
     "locked": true,
     "schema_version": 3,
     "solution": false,
     "task": false
    }
   },
   "source": [
    "Now, we want to plot this function, to see where it's solutions are. To do this, we will use the \"Plots\" package. Julia is a fairly lightweight programming language - it does not naturally do more than the bare essentials. We then add functionalities that we need by \"importing\", or downloading, packages of code that add functionalities which do useful things, like we are about to see."
   ]
  },
  {
   "cell_type": "code",
   "execution_count": 30,
   "metadata": {
    "deletable": false,
    "editable": false,
    "nbgrader": {
     "cell_type": "code",
     "checksum": "e8f300459a73b71aa26b8209dd47a84f",
     "grade": false,
     "grade_id": "cell-dd48daa9716b336c",
     "locked": true,
     "schema_version": 3,
     "solution": false,
     "task": false
    }
   },
   "outputs": [
    {
     "name": "stderr",
     "output_type": "stream",
     "text": [
      "┌ Warning: could not download https://pkg.julialang.org/registries\n",
      "└ @ Pkg.Types /Users/julia/buildbot/worker/package_macos64/build/usr/share/julia/stdlib/v1.6/Pkg/src/Types.jl:980\n"
     ]
    },
    {
     "data": {
      "text/plain": [
       "Plots.GRBackend()"
      ]
     },
     "execution_count": 30,
     "metadata": {},
     "output_type": "execute_result"
    }
   ],
   "source": [
    "#These lines give Julia the ability to plot functions.  This may take a while, but it is necessary.\n",
    "# When you see [*], that means Julia is working hard to do what you told it. Your commands may take just a few \n",
    "# lines, but Julia is probably dealing with multiple megabytes of files and code, all of which is hidden from us. \n",
    "\n",
    "import Pkg\n",
    "Pkg.add(\"Plots\")\n",
    "using Plots\n",
    "\n",
    "gr()"
   ]
  },
  {
   "cell_type": "code",
   "execution_count": 47,
   "metadata": {},
   "outputs": [
    {
     "data": {
      "image/svg+xml": [
       "<?xml version=\"1.0\" encoding=\"utf-8\"?>\n",
       "<svg xmlns=\"http://www.w3.org/2000/svg\" xmlns:xlink=\"http://www.w3.org/1999/xlink\" width=\"600\" height=\"400\" viewBox=\"0 0 2400 1600\">\n",
       "<defs>\n",
       "  <clipPath id=\"clip150\">\n",
       "    <rect x=\"0\" y=\"0\" width=\"2400\" height=\"1600\"/>\n",
       "  </clipPath>\n",
       "</defs>\n",
       "<path clip-path=\"url(#clip150)\" d=\"\n",
       "M0 1600 L2400 1600 L2400 0 L0 0  Z\n",
       "  \" fill=\"#ffffff\" fill-rule=\"evenodd\" fill-opacity=\"1\"/>\n",
       "<defs>\n",
       "  <clipPath id=\"clip151\">\n",
       "    <rect x=\"480\" y=\"0\" width=\"1681\" height=\"1600\"/>\n",
       "  </clipPath>\n",
       "</defs>\n",
       "<path clip-path=\"url(#clip150)\" d=\"\n",
       "M147.709 1486.45 L2352.76 1486.45 L2352.76 47.2441 L147.709 47.2441  Z\n",
       "  \" fill=\"#ffffff\" fill-rule=\"evenodd\" fill-opacity=\"1\"/>\n",
       "<defs>\n",
       "  <clipPath id=\"clip152\">\n",
       "    <rect x=\"147\" y=\"47\" width=\"2206\" height=\"1440\"/>\n",
       "  </clipPath>\n",
       "</defs>\n",
       "<polyline clip-path=\"url(#clip152)\" style=\"stroke:#000000; stroke-linecap:butt; stroke-linejoin:round; stroke-width:2; stroke-opacity:0.1; fill:none\" points=\"\n",
       "  418.14,1486.45 418.14,47.2441 \n",
       "  \"/>\n",
       "<polyline clip-path=\"url(#clip152)\" style=\"stroke:#000000; stroke-linecap:butt; stroke-linejoin:round; stroke-width:2; stroke-opacity:0.1; fill:none\" points=\"\n",
       "  834.186,1486.45 834.186,47.2441 \n",
       "  \"/>\n",
       "<polyline clip-path=\"url(#clip152)\" style=\"stroke:#000000; stroke-linecap:butt; stroke-linejoin:round; stroke-width:2; stroke-opacity:0.1; fill:none\" points=\"\n",
       "  1250.23,1486.45 1250.23,47.2441 \n",
       "  \"/>\n",
       "<polyline clip-path=\"url(#clip152)\" style=\"stroke:#000000; stroke-linecap:butt; stroke-linejoin:round; stroke-width:2; stroke-opacity:0.1; fill:none\" points=\"\n",
       "  1666.28,1486.45 1666.28,47.2441 \n",
       "  \"/>\n",
       "<polyline clip-path=\"url(#clip152)\" style=\"stroke:#000000; stroke-linecap:butt; stroke-linejoin:round; stroke-width:2; stroke-opacity:0.1; fill:none\" points=\"\n",
       "  2082.33,1486.45 2082.33,47.2441 \n",
       "  \"/>\n",
       "<polyline clip-path=\"url(#clip150)\" style=\"stroke:#000000; stroke-linecap:butt; stroke-linejoin:round; stroke-width:4; stroke-opacity:1; fill:none\" points=\"\n",
       "  147.709,1486.45 2352.76,1486.45 \n",
       "  \"/>\n",
       "<polyline clip-path=\"url(#clip150)\" style=\"stroke:#000000; stroke-linecap:butt; stroke-linejoin:round; stroke-width:4; stroke-opacity:1; fill:none\" points=\"\n",
       "  418.14,1486.45 418.14,1469.18 \n",
       "  \"/>\n",
       "<polyline clip-path=\"url(#clip150)\" style=\"stroke:#000000; stroke-linecap:butt; stroke-linejoin:round; stroke-width:4; stroke-opacity:1; fill:none\" points=\"\n",
       "  834.186,1486.45 834.186,1469.18 \n",
       "  \"/>\n",
       "<polyline clip-path=\"url(#clip150)\" style=\"stroke:#000000; stroke-linecap:butt; stroke-linejoin:round; stroke-width:4; stroke-opacity:1; fill:none\" points=\"\n",
       "  1250.23,1486.45 1250.23,1469.18 \n",
       "  \"/>\n",
       "<polyline clip-path=\"url(#clip150)\" style=\"stroke:#000000; stroke-linecap:butt; stroke-linejoin:round; stroke-width:4; stroke-opacity:1; fill:none\" points=\"\n",
       "  1666.28,1486.45 1666.28,1469.18 \n",
       "  \"/>\n",
       "<polyline clip-path=\"url(#clip150)\" style=\"stroke:#000000; stroke-linecap:butt; stroke-linejoin:round; stroke-width:4; stroke-opacity:1; fill:none\" points=\"\n",
       "  2082.33,1486.45 2082.33,1469.18 \n",
       "  \"/>\n",
       "<path clip-path=\"url(#clip150)\" d=\"M387.04 1530.29 L416.716 1530.29 L416.716 1534.23 L387.04 1534.23 L387.04 1530.29 Z\" fill=\"#000000\" fill-rule=\"evenodd\" fill-opacity=\"1\" /><path clip-path=\"url(#clip150)\" d=\"M439.656 1516.63 L427.85 1535.08 L439.656 1535.08 L439.656 1516.63 M438.429 1512.56 L444.308 1512.56 L444.308 1535.08 L449.239 1535.08 L449.239 1538.97 L444.308 1538.97 L444.308 1547.12 L439.656 1547.12 L439.656 1538.97 L424.054 1538.97 L424.054 1534.46 L438.429 1512.56 Z\" fill=\"#000000\" fill-rule=\"evenodd\" fill-opacity=\"1\" /><path clip-path=\"url(#clip150)\" d=\"M804.128 1530.29 L833.804 1530.29 L833.804 1534.23 L804.128 1534.23 L804.128 1530.29 Z\" fill=\"#000000\" fill-rule=\"evenodd\" fill-opacity=\"1\" /><path clip-path=\"url(#clip150)\" d=\"M847.924 1543.18 L864.244 1543.18 L864.244 1547.12 L842.3 1547.12 L842.3 1543.18 Q844.962 1540.43 849.545 1535.8 Q854.151 1531.15 855.332 1529.81 Q857.577 1527.28 858.457 1525.55 Q859.36 1523.79 859.36 1522.1 Q859.36 1519.34 857.415 1517.61 Q855.494 1515.87 852.392 1515.87 Q850.193 1515.87 847.739 1516.63 Q845.309 1517.4 842.531 1518.95 L842.531 1514.23 Q845.355 1513.09 847.809 1512.51 Q850.262 1511.93 852.299 1511.93 Q857.67 1511.93 860.864 1514.62 Q864.059 1517.31 864.059 1521.8 Q864.059 1523.93 863.248 1525.85 Q862.461 1527.74 860.355 1530.34 Q859.776 1531.01 856.674 1534.23 Q853.573 1537.42 847.924 1543.18 Z\" fill=\"#000000\" fill-rule=\"evenodd\" fill-opacity=\"1\" /><path clip-path=\"url(#clip150)\" d=\"M1250.23 1515.64 Q1246.62 1515.64 1244.79 1519.2 Q1242.99 1522.75 1242.99 1529.87 Q1242.99 1536.98 1244.79 1540.55 Q1246.62 1544.09 1250.23 1544.09 Q1253.87 1544.09 1255.67 1540.55 Q1257.5 1536.98 1257.5 1529.87 Q1257.5 1522.75 1255.67 1519.2 Q1253.87 1515.64 1250.23 1515.64 M1250.23 1511.93 Q1256.04 1511.93 1259.1 1516.54 Q1262.18 1521.12 1262.18 1529.87 Q1262.18 1538.6 1259.1 1543.21 Q1256.04 1547.79 1250.23 1547.79 Q1244.42 1547.79 1241.34 1543.21 Q1238.29 1538.6 1238.29 1529.87 Q1238.29 1521.12 1241.34 1516.54 Q1244.42 1511.93 1250.23 1511.93 Z\" fill=\"#000000\" fill-rule=\"evenodd\" fill-opacity=\"1\" /><path clip-path=\"url(#clip150)\" d=\"M1660.93 1543.18 L1677.25 1543.18 L1677.25 1547.12 L1655.31 1547.12 L1655.31 1543.18 Q1657.97 1540.43 1662.55 1535.8 Q1667.16 1531.15 1668.34 1529.81 Q1670.58 1527.28 1671.46 1525.55 Q1672.37 1523.79 1672.37 1522.1 Q1672.37 1519.34 1670.42 1517.61 Q1668.5 1515.87 1665.4 1515.87 Q1663.2 1515.87 1660.75 1516.63 Q1658.32 1517.4 1655.54 1518.95 L1655.54 1514.23 Q1658.36 1513.09 1660.82 1512.51 Q1663.27 1511.93 1665.31 1511.93 Q1670.68 1511.93 1673.87 1514.62 Q1677.07 1517.31 1677.07 1521.8 Q1677.07 1523.93 1676.26 1525.85 Q1675.47 1527.74 1673.36 1530.34 Q1672.78 1531.01 1669.68 1534.23 Q1666.58 1537.42 1660.93 1543.18 Z\" fill=\"#000000\" fill-rule=\"evenodd\" fill-opacity=\"1\" /><path clip-path=\"url(#clip150)\" d=\"M2085.33 1516.63 L2073.53 1535.08 L2085.33 1535.08 L2085.33 1516.63 M2084.11 1512.56 L2089.99 1512.56 L2089.99 1535.08 L2094.92 1535.08 L2094.92 1538.97 L2089.99 1538.97 L2089.99 1547.12 L2085.33 1547.12 L2085.33 1538.97 L2069.73 1538.97 L2069.73 1534.46 L2084.11 1512.56 Z\" fill=\"#000000\" fill-rule=\"evenodd\" fill-opacity=\"1\" /><polyline clip-path=\"url(#clip152)\" style=\"stroke:#000000; stroke-linecap:butt; stroke-linejoin:round; stroke-width:2; stroke-opacity:0.1; fill:none\" points=\"\n",
       "  147.709,1174.17 2352.76,1174.17 \n",
       "  \"/>\n",
       "<polyline clip-path=\"url(#clip152)\" style=\"stroke:#000000; stroke-linecap:butt; stroke-linejoin:round; stroke-width:2; stroke-opacity:0.1; fill:none\" points=\"\n",
       "  147.709,834.733 2352.76,834.733 \n",
       "  \"/>\n",
       "<polyline clip-path=\"url(#clip152)\" style=\"stroke:#000000; stroke-linecap:butt; stroke-linejoin:round; stroke-width:2; stroke-opacity:0.1; fill:none\" points=\"\n",
       "  147.709,495.298 2352.76,495.298 \n",
       "  \"/>\n",
       "<polyline clip-path=\"url(#clip152)\" style=\"stroke:#000000; stroke-linecap:butt; stroke-linejoin:round; stroke-width:2; stroke-opacity:0.1; fill:none\" points=\"\n",
       "  147.709,155.863 2352.76,155.863 \n",
       "  \"/>\n",
       "<polyline clip-path=\"url(#clip150)\" style=\"stroke:#000000; stroke-linecap:butt; stroke-linejoin:round; stroke-width:4; stroke-opacity:1; fill:none\" points=\"\n",
       "  147.709,1486.45 147.709,47.2441 \n",
       "  \"/>\n",
       "<polyline clip-path=\"url(#clip150)\" style=\"stroke:#000000; stroke-linecap:butt; stroke-linejoin:round; stroke-width:4; stroke-opacity:1; fill:none\" points=\"\n",
       "  147.709,1174.17 174.17,1174.17 \n",
       "  \"/>\n",
       "<polyline clip-path=\"url(#clip150)\" style=\"stroke:#000000; stroke-linecap:butt; stroke-linejoin:round; stroke-width:4; stroke-opacity:1; fill:none\" points=\"\n",
       "  147.709,834.733 174.17,834.733 \n",
       "  \"/>\n",
       "<polyline clip-path=\"url(#clip150)\" style=\"stroke:#000000; stroke-linecap:butt; stroke-linejoin:round; stroke-width:4; stroke-opacity:1; fill:none\" points=\"\n",
       "  147.709,495.298 174.17,495.298 \n",
       "  \"/>\n",
       "<polyline clip-path=\"url(#clip150)\" style=\"stroke:#000000; stroke-linecap:butt; stroke-linejoin:round; stroke-width:4; stroke-opacity:1; fill:none\" points=\"\n",
       "  147.709,155.863 174.17,155.863 \n",
       "  \"/>\n",
       "<path clip-path=\"url(#clip150)\" d=\"M50.9921 1174.62 L80.6679 1174.62 L80.6679 1178.55 L50.9921 1178.55 L50.9921 1174.62 Z\" fill=\"#000000\" fill-rule=\"evenodd\" fill-opacity=\"1\" /><path clip-path=\"url(#clip150)\" d=\"M90.8067 1156.89 L109.163 1156.89 L109.163 1160.82 L95.0891 1160.82 L95.0891 1169.3 Q96.1076 1168.95 97.1261 1168.79 Q98.1447 1168.6 99.1632 1168.6 Q104.95 1168.6 108.33 1171.77 Q111.709 1174.94 111.709 1180.36 Q111.709 1185.94 108.237 1189.04 Q104.765 1192.12 98.4456 1192.12 Q96.2697 1192.12 94.0012 1191.75 Q91.7558 1191.38 89.3484 1190.64 L89.3484 1185.94 Q91.4317 1187.07 93.6539 1187.63 Q95.8761 1188.18 98.353 1188.18 Q102.358 1188.18 104.696 1186.08 Q107.033 1183.97 107.033 1180.36 Q107.033 1176.75 104.696 1174.64 Q102.358 1172.54 98.353 1172.54 Q96.478 1172.54 94.603 1172.95 Q92.7512 1173.37 90.8067 1174.25 L90.8067 1156.89 Z\" fill=\"#000000\" fill-rule=\"evenodd\" fill-opacity=\"1\" /><path clip-path=\"url(#clip150)\" d=\"M99.765 820.532 Q96.1539 820.532 94.3252 824.096 Q92.5197 827.638 92.5197 834.768 Q92.5197 841.874 94.3252 845.439 Q96.1539 848.981 99.765 848.981 Q103.399 848.981 105.205 845.439 Q107.033 841.874 107.033 834.768 Q107.033 827.638 105.205 824.096 Q103.399 820.532 99.765 820.532 M99.765 816.828 Q105.575 816.828 108.631 821.434 Q111.709 826.018 111.709 834.768 Q111.709 843.494 108.631 848.101 Q105.575 852.684 99.765 852.684 Q93.9549 852.684 90.8762 848.101 Q87.8206 843.494 87.8206 834.768 Q87.8206 826.018 90.8762 821.434 Q93.9549 816.828 99.765 816.828 Z\" fill=\"#000000\" fill-rule=\"evenodd\" fill-opacity=\"1\" /><path clip-path=\"url(#clip150)\" d=\"M90.8067 478.018 L109.163 478.018 L109.163 481.953 L95.0891 481.953 L95.0891 490.425 Q96.1076 490.078 97.1261 489.916 Q98.1447 489.731 99.1632 489.731 Q104.95 489.731 108.33 492.902 Q111.709 496.074 111.709 501.49 Q111.709 507.069 108.237 510.171 Q104.765 513.249 98.4456 513.249 Q96.2697 513.249 94.0012 512.879 Q91.7558 512.509 89.3484 511.768 L89.3484 507.069 Q91.4317 508.203 93.6539 508.759 Q95.8761 509.314 98.353 509.314 Q102.358 509.314 104.696 507.208 Q107.033 505.101 107.033 501.49 Q107.033 497.879 104.696 495.773 Q102.358 493.666 98.353 493.666 Q96.478 493.666 94.603 494.083 Q92.7512 494.499 90.8067 495.379 L90.8067 478.018 Z\" fill=\"#000000\" fill-rule=\"evenodd\" fill-opacity=\"1\" /><path clip-path=\"url(#clip150)\" d=\"M60.4134 169.208 L68.0522 169.208 L68.0522 142.842 L59.7421 144.509 L59.7421 140.25 L68.0059 138.583 L72.6818 138.583 L72.6818 169.208 L80.3207 169.208 L80.3207 173.143 L60.4134 173.143 L60.4134 169.208 Z\" fill=\"#000000\" fill-rule=\"evenodd\" fill-opacity=\"1\" /><path clip-path=\"url(#clip150)\" d=\"M99.765 141.662 Q96.1539 141.662 94.3252 145.227 Q92.5197 148.768 92.5197 155.898 Q92.5197 163.004 94.3252 166.569 Q96.1539 170.111 99.765 170.111 Q103.399 170.111 105.205 166.569 Q107.033 163.004 107.033 155.898 Q107.033 148.768 105.205 145.227 Q103.399 141.662 99.765 141.662 M99.765 137.958 Q105.575 137.958 108.631 142.565 Q111.709 147.148 111.709 155.898 Q111.709 164.625 108.631 169.231 Q105.575 173.815 99.765 173.815 Q93.9549 173.815 90.8762 169.231 Q87.8206 164.625 87.8206 155.898 Q87.8206 147.148 90.8762 142.565 Q93.9549 137.958 99.765 137.958 Z\" fill=\"#000000\" fill-rule=\"evenodd\" fill-opacity=\"1\" /><polyline clip-path=\"url(#clip152)\" style=\"stroke:#009af9; stroke-linecap:butt; stroke-linejoin:round; stroke-width:4; stroke-opacity:1; fill:none\" points=\"\n",
       "  210.116,1445.72 230.432,1432.46 418.275,1309.85 531.161,1236.17 626.604,1173.88 730.283,1106.21 825.865,1043.82 928.339,976.941 1047.07,899.45 1152.58,830.585 \n",
       "  1245.1,770.196 1345.97,704.357 1447.45,638.126 1559.64,564.899 1666.39,495.226 1777.38,422.781 1870.82,361.799 1984.89,287.346 2092.12,217.358 2263.91,105.232 \n",
       "  2290.35,87.9763 \n",
       "  \"/>\n",
       "<path clip-path=\"url(#clip150)\" d=\"\n",
       "M1981.82 216.178 L2279.25 216.178 L2279.25 95.2176 L1981.82 95.2176  Z\n",
       "  \" fill=\"#ffffff\" fill-rule=\"evenodd\" fill-opacity=\"1\"/>\n",
       "<polyline clip-path=\"url(#clip150)\" style=\"stroke:#000000; stroke-linecap:butt; stroke-linejoin:round; stroke-width:4; stroke-opacity:1; fill:none\" points=\"\n",
       "  1981.82,216.178 2279.25,216.178 2279.25,95.2176 1981.82,95.2176 1981.82,216.178 \n",
       "  \"/>\n",
       "<polyline clip-path=\"url(#clip150)\" style=\"stroke:#009af9; stroke-linecap:butt; stroke-linejoin:round; stroke-width:4; stroke-opacity:1; fill:none\" points=\"\n",
       "  2006.32,155.698 2153.32,155.698 \n",
       "  \"/>\n",
       "<path clip-path=\"url(#clip150)\" d=\"M2191.67 175.385 Q2189.86 180.015 2188.15 181.427 Q2186.43 182.839 2183.56 182.839 L2180.16 182.839 L2180.16 179.274 L2182.66 179.274 Q2184.42 179.274 2185.39 178.44 Q2186.36 177.607 2187.55 174.505 L2188.31 172.561 L2177.82 147.052 L2182.34 147.052 L2190.44 167.329 L2198.54 147.052 L2203.05 147.052 L2191.67 175.385 Z\" fill=\"#000000\" fill-rule=\"evenodd\" fill-opacity=\"1\" /><path clip-path=\"url(#clip150)\" d=\"M2210.35 169.042 L2217.98 169.042 L2217.98 142.677 L2209.67 144.343 L2209.67 140.084 L2217.94 138.418 L2222.61 138.418 L2222.61 169.042 L2230.25 169.042 L2230.25 172.978 L2210.35 172.978 L2210.35 169.042 Z\" fill=\"#000000\" fill-rule=\"evenodd\" fill-opacity=\"1\" /></svg>\n"
      ]
     },
     "execution_count": 47,
     "metadata": {},
     "output_type": "execute_result"
    }
   ],
   "source": [
    "#now, we can use the plot() function\n",
    "plot(f, -5, 5)  #f will be plotted over an x range of -5 to 5"
   ]
  },
  {
   "cell_type": "markdown",
   "metadata": {
    "deletable": false,
    "editable": false,
    "nbgrader": {
     "cell_type": "markdown",
     "checksum": "eddc9ac9f258b9ca32a824076139cbce",
     "grade": false,
     "grade_id": "cell-e5f55ebcb0af4820",
     "locked": true,
     "schema_version": 3,
     "solution": false,
     "task": false
    }
   },
   "source": [
    "If we wanted to change an element of the graph, we need to use the function **plot!()**\n",
    "\n",
    "The exclamation point indicates that the function will modify the existing plot, instead of replacing it.  Let's make the graph to scale with an aspect_ratio command, and label the axes.  You can also add an additional line to the plot.  Let's include the x-axis."
   ]
  },
  {
   "cell_type": "code",
   "execution_count": 39,
   "metadata": {},
   "outputs": [
    {
     "data": {
      "image/svg+xml": [
       "<?xml version=\"1.0\" encoding=\"utf-8\"?>\n",
       "<svg xmlns=\"http://www.w3.org/2000/svg\" xmlns:xlink=\"http://www.w3.org/1999/xlink\" width=\"600\" height=\"400\" viewBox=\"0 0 2400 1600\">\n",
       "<defs>\n",
       "  <clipPath id=\"clip110\">\n",
       "    <rect x=\"0\" y=\"0\" width=\"2400\" height=\"1600\"/>\n",
       "  </clipPath>\n",
       "</defs>\n",
       "<path clip-path=\"url(#clip110)\" d=\"\n",
       "M0 1600 L2400 1600 L2400 0 L0 0  Z\n",
       "  \" fill=\"#ffffff\" fill-rule=\"evenodd\" fill-opacity=\"1\"/>\n",
       "<defs>\n",
       "  <clipPath id=\"clip111\">\n",
       "    <rect x=\"480\" y=\"0\" width=\"1681\" height=\"1600\"/>\n",
       "  </clipPath>\n",
       "</defs>\n",
       "<path clip-path=\"url(#clip110)\" d=\"\n",
       "M242.135 1423.18 L2352.76 1423.18 L2352.76 47.2441 L242.135 47.2441  Z\n",
       "  \" fill=\"#ffffff\" fill-rule=\"evenodd\" fill-opacity=\"1\"/>\n",
       "<defs>\n",
       "  <clipPath id=\"clip112\">\n",
       "    <rect x=\"242\" y=\"47\" width=\"2112\" height=\"1377\"/>\n",
       "  </clipPath>\n",
       "</defs>\n",
       "<polyline clip-path=\"url(#clip112)\" style=\"stroke:#000000; stroke-linecap:butt; stroke-linejoin:round; stroke-width:2; stroke-opacity:0.1; fill:none\" points=\"\n",
       "  259.003,1423.18 259.003,47.2441 \n",
       "  \"/>\n",
       "<polyline clip-path=\"url(#clip112)\" style=\"stroke:#000000; stroke-linecap:butt; stroke-linejoin:round; stroke-width:2; stroke-opacity:0.1; fill:none\" points=\"\n",
       "  778.224,1423.18 778.224,47.2441 \n",
       "  \"/>\n",
       "<polyline clip-path=\"url(#clip112)\" style=\"stroke:#000000; stroke-linecap:butt; stroke-linejoin:round; stroke-width:2; stroke-opacity:0.1; fill:none\" points=\"\n",
       "  1297.45,1423.18 1297.45,47.2441 \n",
       "  \"/>\n",
       "<polyline clip-path=\"url(#clip112)\" style=\"stroke:#000000; stroke-linecap:butt; stroke-linejoin:round; stroke-width:2; stroke-opacity:0.1; fill:none\" points=\"\n",
       "  1816.67,1423.18 1816.67,47.2441 \n",
       "  \"/>\n",
       "<polyline clip-path=\"url(#clip112)\" style=\"stroke:#000000; stroke-linecap:butt; stroke-linejoin:round; stroke-width:2; stroke-opacity:0.1; fill:none\" points=\"\n",
       "  2335.89,1423.18 2335.89,47.2441 \n",
       "  \"/>\n",
       "<polyline clip-path=\"url(#clip110)\" style=\"stroke:#000000; stroke-linecap:butt; stroke-linejoin:round; stroke-width:4; stroke-opacity:1; fill:none\" points=\"\n",
       "  242.135,1423.18 2352.76,1423.18 \n",
       "  \"/>\n",
       "<polyline clip-path=\"url(#clip110)\" style=\"stroke:#000000; stroke-linecap:butt; stroke-linejoin:round; stroke-width:4; stroke-opacity:1; fill:none\" points=\"\n",
       "  259.003,1423.18 259.003,1406.67 \n",
       "  \"/>\n",
       "<polyline clip-path=\"url(#clip110)\" style=\"stroke:#000000; stroke-linecap:butt; stroke-linejoin:round; stroke-width:4; stroke-opacity:1; fill:none\" points=\"\n",
       "  778.224,1423.18 778.224,1406.67 \n",
       "  \"/>\n",
       "<polyline clip-path=\"url(#clip110)\" style=\"stroke:#000000; stroke-linecap:butt; stroke-linejoin:round; stroke-width:4; stroke-opacity:1; fill:none\" points=\"\n",
       "  1297.45,1423.18 1297.45,1406.67 \n",
       "  \"/>\n",
       "<polyline clip-path=\"url(#clip110)\" style=\"stroke:#000000; stroke-linecap:butt; stroke-linejoin:round; stroke-width:4; stroke-opacity:1; fill:none\" points=\"\n",
       "  1816.67,1423.18 1816.67,1406.67 \n",
       "  \"/>\n",
       "<polyline clip-path=\"url(#clip110)\" style=\"stroke:#000000; stroke-linecap:butt; stroke-linejoin:round; stroke-width:4; stroke-opacity:1; fill:none\" points=\"\n",
       "  2335.89,1423.18 2335.89,1406.67 \n",
       "  \"/>\n",
       "<path clip-path=\"url(#clip110)\" d=\"M213.066 1467.02 L242.742 1467.02 L242.742 1470.96 L213.066 1470.96 L213.066 1467.02 Z\" fill=\"#000000\" fill-rule=\"evenodd\" fill-opacity=\"1\" /><path clip-path=\"url(#clip110)\" d=\"M265.681 1453.37 L253.876 1471.81 L265.681 1471.81 L265.681 1453.37 M264.455 1449.29 L270.334 1449.29 L270.334 1471.81 L275.265 1471.81 L275.265 1475.7 L270.334 1475.7 L270.334 1483.85 L265.681 1483.85 L265.681 1475.7 L250.08 1475.7 L250.08 1471.19 L264.455 1449.29 Z\" fill=\"#000000\" fill-rule=\"evenodd\" fill-opacity=\"1\" /><path clip-path=\"url(#clip110)\" d=\"M292.996 1452.37 Q289.385 1452.37 287.556 1455.94 Q285.751 1459.48 285.751 1466.61 Q285.751 1473.71 287.556 1477.28 Q289.385 1480.82 292.996 1480.82 Q296.63 1480.82 298.436 1477.28 Q300.265 1473.71 300.265 1466.61 Q300.265 1459.48 298.436 1455.94 Q296.63 1452.37 292.996 1452.37 M292.996 1448.67 Q298.806 1448.67 301.862 1453.27 Q304.94 1457.86 304.94 1466.61 Q304.94 1475.33 301.862 1479.94 Q298.806 1484.52 292.996 1484.52 Q287.186 1484.52 284.107 1479.94 Q281.052 1475.33 281.052 1466.61 Q281.052 1457.86 284.107 1453.27 Q287.186 1448.67 292.996 1448.67 Z\" fill=\"#000000\" fill-rule=\"evenodd\" fill-opacity=\"1\" /><path clip-path=\"url(#clip110)\" d=\"M732.287 1467.02 L761.963 1467.02 L761.963 1470.96 L732.287 1470.96 L732.287 1467.02 Z\" fill=\"#000000\" fill-rule=\"evenodd\" fill-opacity=\"1\" /><path clip-path=\"url(#clip110)\" d=\"M776.083 1479.92 L792.402 1479.92 L792.402 1483.85 L770.458 1483.85 L770.458 1479.92 Q773.12 1477.16 777.703 1472.53 Q782.31 1467.88 783.49 1466.54 Q785.736 1464.01 786.615 1462.28 Q787.518 1460.52 787.518 1458.83 Q787.518 1456.07 785.574 1454.34 Q783.652 1452.6 780.551 1452.6 Q778.352 1452.6 775.898 1453.37 Q773.467 1454.13 770.69 1455.68 L770.69 1450.96 Q773.514 1449.82 775.967 1449.25 Q778.421 1448.67 780.458 1448.67 Q785.828 1448.67 789.023 1451.35 Q792.217 1454.04 792.217 1458.53 Q792.217 1460.66 791.407 1462.58 Q790.62 1464.48 788.514 1467.07 Q787.935 1467.74 784.833 1470.96 Q781.731 1474.15 776.083 1479.92 Z\" fill=\"#000000\" fill-rule=\"evenodd\" fill-opacity=\"1\" /><path clip-path=\"url(#clip110)\" d=\"M812.217 1452.37 Q808.606 1452.37 806.777 1455.94 Q804.972 1459.48 804.972 1466.61 Q804.972 1473.71 806.777 1477.28 Q808.606 1480.82 812.217 1480.82 Q815.851 1480.82 817.657 1477.28 Q819.486 1473.71 819.486 1466.61 Q819.486 1459.48 817.657 1455.94 Q815.851 1452.37 812.217 1452.37 M812.217 1448.67 Q818.027 1448.67 821.083 1453.27 Q824.162 1457.86 824.162 1466.61 Q824.162 1475.33 821.083 1479.94 Q818.027 1484.52 812.217 1484.52 Q806.407 1484.52 803.328 1479.94 Q800.273 1475.33 800.273 1466.61 Q800.273 1457.86 803.328 1453.27 Q806.407 1448.67 812.217 1448.67 Z\" fill=\"#000000\" fill-rule=\"evenodd\" fill-opacity=\"1\" /><path clip-path=\"url(#clip110)\" d=\"M1297.45 1452.37 Q1293.83 1452.37 1292.01 1455.94 Q1290.2 1459.48 1290.2 1466.61 Q1290.2 1473.71 1292.01 1477.28 Q1293.83 1480.82 1297.45 1480.82 Q1301.08 1480.82 1302.89 1477.28 Q1304.71 1473.71 1304.71 1466.61 Q1304.71 1459.48 1302.89 1455.94 Q1301.08 1452.37 1297.45 1452.37 M1297.45 1448.67 Q1303.26 1448.67 1306.31 1453.27 Q1309.39 1457.86 1309.39 1466.61 Q1309.39 1475.33 1306.31 1479.94 Q1303.26 1484.52 1297.45 1484.52 Q1291.64 1484.52 1288.56 1479.94 Q1285.5 1475.33 1285.5 1466.61 Q1285.5 1457.86 1288.56 1453.27 Q1291.64 1448.67 1297.45 1448.67 Z\" fill=\"#000000\" fill-rule=\"evenodd\" fill-opacity=\"1\" /><path clip-path=\"url(#clip110)\" d=\"M1795.44 1479.92 L1811.76 1479.92 L1811.76 1483.85 L1789.81 1483.85 L1789.81 1479.92 Q1792.48 1477.16 1797.06 1472.53 Q1801.67 1467.88 1802.85 1466.54 Q1805.09 1464.01 1805.97 1462.28 Q1806.87 1460.52 1806.87 1458.83 Q1806.87 1456.07 1804.93 1454.34 Q1803.01 1452.6 1799.91 1452.6 Q1797.71 1452.6 1795.25 1453.37 Q1792.82 1454.13 1790.05 1455.68 L1790.05 1450.96 Q1792.87 1449.82 1795.32 1449.25 Q1797.78 1448.67 1799.81 1448.67 Q1805.18 1448.67 1808.38 1451.35 Q1811.57 1454.04 1811.57 1458.53 Q1811.57 1460.66 1810.76 1462.58 Q1809.98 1464.48 1807.87 1467.07 Q1807.29 1467.74 1804.19 1470.96 Q1801.09 1474.15 1795.44 1479.92 Z\" fill=\"#000000\" fill-rule=\"evenodd\" fill-opacity=\"1\" /><path clip-path=\"url(#clip110)\" d=\"M1831.57 1452.37 Q1827.96 1452.37 1826.13 1455.94 Q1824.33 1459.48 1824.33 1466.61 Q1824.33 1473.71 1826.13 1477.28 Q1827.96 1480.82 1831.57 1480.82 Q1835.21 1480.82 1837.01 1477.28 Q1838.84 1473.71 1838.84 1466.61 Q1838.84 1459.48 1837.01 1455.94 Q1835.21 1452.37 1831.57 1452.37 M1831.57 1448.67 Q1837.38 1448.67 1840.44 1453.27 Q1843.52 1457.86 1843.52 1466.61 Q1843.52 1475.33 1840.44 1479.94 Q1837.38 1484.52 1831.57 1484.52 Q1825.76 1484.52 1822.68 1479.94 Q1819.63 1475.33 1819.63 1466.61 Q1819.63 1457.86 1822.68 1453.27 Q1825.76 1448.67 1831.57 1448.67 Z\" fill=\"#000000\" fill-rule=\"evenodd\" fill-opacity=\"1\" /><path clip-path=\"url(#clip110)\" d=\"M2324.06 1453.37 L2312.25 1471.81 L2324.06 1471.81 L2324.06 1453.37 M2322.83 1449.29 L2328.71 1449.29 L2328.71 1471.81 L2333.64 1471.81 L2333.64 1475.7 L2328.71 1475.7 L2328.71 1483.85 L2324.06 1483.85 L2324.06 1475.7 L2308.46 1475.7 L2308.46 1471.19 L2322.83 1449.29 Z\" fill=\"#000000\" fill-rule=\"evenodd\" fill-opacity=\"1\" /><path clip-path=\"url(#clip110)\" d=\"M2351.37 1452.37 Q2347.76 1452.37 2345.93 1455.94 Q2344.13 1459.48 2344.13 1466.61 Q2344.13 1473.71 2345.93 1477.28 Q2347.76 1480.82 2351.37 1480.82 Q2355.01 1480.82 2356.81 1477.28 Q2358.64 1473.71 2358.64 1466.61 Q2358.64 1459.48 2356.81 1455.94 Q2355.01 1452.37 2351.37 1452.37 M2351.37 1448.67 Q2357.18 1448.67 2360.24 1453.27 Q2363.32 1457.86 2363.32 1466.61 Q2363.32 1475.33 2360.24 1479.94 Q2357.18 1484.52 2351.37 1484.52 Q2345.56 1484.52 2342.48 1479.94 Q2339.43 1475.33 2339.43 1466.61 Q2339.43 1457.86 2342.48 1453.27 Q2345.56 1448.67 2351.37 1448.67 Z\" fill=\"#000000\" fill-rule=\"evenodd\" fill-opacity=\"1\" /><path clip-path=\"url(#clip110)\" d=\"M1314.06 1532.4 L1301.17 1549.74 L1314.73 1568.04 L1307.82 1568.04 L1297.45 1554.04 L1287.07 1568.04 L1280.16 1568.04 L1294.01 1549.39 L1281.34 1532.4 L1288.25 1532.4 L1297.7 1545.1 L1307.15 1532.4 L1314.06 1532.4 Z\" fill=\"#000000\" fill-rule=\"evenodd\" fill-opacity=\"1\" /><polyline clip-path=\"url(#clip112)\" style=\"stroke:#000000; stroke-linecap:butt; stroke-linejoin:round; stroke-width:2; stroke-opacity:0.1; fill:none\" points=\"\n",
       "  242.135,1306.36 2352.76,1306.36 \n",
       "  \"/>\n",
       "<polyline clip-path=\"url(#clip112)\" style=\"stroke:#000000; stroke-linecap:butt; stroke-linejoin:round; stroke-width:2; stroke-opacity:0.1; fill:none\" points=\"\n",
       "  242.135,1046.74 2352.76,1046.74 \n",
       "  \"/>\n",
       "<polyline clip-path=\"url(#clip112)\" style=\"stroke:#000000; stroke-linecap:butt; stroke-linejoin:round; stroke-width:2; stroke-opacity:0.1; fill:none\" points=\"\n",
       "  242.135,787.134 2352.76,787.134 \n",
       "  \"/>\n",
       "<polyline clip-path=\"url(#clip112)\" style=\"stroke:#000000; stroke-linecap:butt; stroke-linejoin:round; stroke-width:2; stroke-opacity:0.1; fill:none\" points=\"\n",
       "  242.135,527.524 2352.76,527.524 \n",
       "  \"/>\n",
       "<polyline clip-path=\"url(#clip112)\" style=\"stroke:#000000; stroke-linecap:butt; stroke-linejoin:round; stroke-width:2; stroke-opacity:0.1; fill:none\" points=\"\n",
       "  242.135,267.913 2352.76,267.913 \n",
       "  \"/>\n",
       "<polyline clip-path=\"url(#clip110)\" style=\"stroke:#000000; stroke-linecap:butt; stroke-linejoin:round; stroke-width:4; stroke-opacity:1; fill:none\" points=\"\n",
       "  242.135,1423.18 242.135,47.2441 \n",
       "  \"/>\n",
       "<polyline clip-path=\"url(#clip110)\" style=\"stroke:#000000; stroke-linecap:butt; stroke-linejoin:round; stroke-width:4; stroke-opacity:1; fill:none\" points=\"\n",
       "  242.135,1306.36 267.462,1306.36 \n",
       "  \"/>\n",
       "<polyline clip-path=\"url(#clip110)\" style=\"stroke:#000000; stroke-linecap:butt; stroke-linejoin:round; stroke-width:4; stroke-opacity:1; fill:none\" points=\"\n",
       "  242.135,1046.74 267.462,1046.74 \n",
       "  \"/>\n",
       "<polyline clip-path=\"url(#clip110)\" style=\"stroke:#000000; stroke-linecap:butt; stroke-linejoin:round; stroke-width:4; stroke-opacity:1; fill:none\" points=\"\n",
       "  242.135,787.134 267.462,787.134 \n",
       "  \"/>\n",
       "<polyline clip-path=\"url(#clip110)\" style=\"stroke:#000000; stroke-linecap:butt; stroke-linejoin:round; stroke-width:4; stroke-opacity:1; fill:none\" points=\"\n",
       "  242.135,527.524 267.462,527.524 \n",
       "  \"/>\n",
       "<polyline clip-path=\"url(#clip110)\" style=\"stroke:#000000; stroke-linecap:butt; stroke-linejoin:round; stroke-width:4; stroke-opacity:1; fill:none\" points=\"\n",
       "  242.135,267.913 267.462,267.913 \n",
       "  \"/>\n",
       "<path clip-path=\"url(#clip110)\" d=\"M114.26 1306.81 L143.936 1306.81 L143.936 1310.74 L114.26 1310.74 L114.26 1306.81 Z\" fill=\"#000000\" fill-rule=\"evenodd\" fill-opacity=\"1\" /><path clip-path=\"url(#clip110)\" d=\"M158.056 1319.7 L174.376 1319.7 L174.376 1323.64 L152.431 1323.64 L152.431 1319.7 Q155.093 1316.95 159.677 1312.32 Q164.283 1307.66 165.464 1306.32 Q167.709 1303.8 168.589 1302.06 Q169.491 1300.3 169.491 1298.61 Q169.491 1295.86 167.547 1294.12 Q165.626 1292.39 162.524 1292.39 Q160.325 1292.39 157.871 1293.15 Q155.44 1293.91 152.663 1295.46 L152.663 1290.74 Q155.487 1289.61 157.94 1289.03 Q160.394 1288.45 162.431 1288.45 Q167.802 1288.45 170.996 1291.14 Q174.19 1293.82 174.19 1298.31 Q174.19 1300.44 173.38 1302.36 Q172.593 1304.26 170.487 1306.85 Q169.908 1307.52 166.806 1310.74 Q163.704 1313.94 158.056 1319.7 Z\" fill=\"#000000\" fill-rule=\"evenodd\" fill-opacity=\"1\" /><path clip-path=\"url(#clip110)\" d=\"M194.19 1292.15 Q190.579 1292.15 188.75 1295.72 Q186.945 1299.26 186.945 1306.39 Q186.945 1313.5 188.75 1317.06 Q190.579 1320.6 194.19 1320.6 Q197.825 1320.6 199.63 1317.06 Q201.459 1313.5 201.459 1306.39 Q201.459 1299.26 199.63 1295.72 Q197.825 1292.15 194.19 1292.15 M194.19 1288.45 Q200 1288.45 203.056 1293.06 Q206.135 1297.64 206.135 1306.39 Q206.135 1315.12 203.056 1319.72 Q200 1324.31 194.19 1324.31 Q188.38 1324.31 185.301 1319.72 Q182.246 1315.12 182.246 1306.39 Q182.246 1297.64 185.301 1293.06 Q188.38 1288.45 194.19 1288.45 Z\" fill=\"#000000\" fill-rule=\"evenodd\" fill-opacity=\"1\" /><path clip-path=\"url(#clip110)\" d=\"M114.26 1047.2 L143.936 1047.2 L143.936 1051.13 L114.26 1051.13 L114.26 1047.2 Z\" fill=\"#000000\" fill-rule=\"evenodd\" fill-opacity=\"1\" /><path clip-path=\"url(#clip110)\" d=\"M154.839 1060.09 L162.477 1060.09 L162.477 1033.72 L154.167 1035.39 L154.167 1031.13 L162.431 1029.46 L167.107 1029.46 L167.107 1060.09 L174.746 1060.09 L174.746 1064.02 L154.839 1064.02 L154.839 1060.09 Z\" fill=\"#000000\" fill-rule=\"evenodd\" fill-opacity=\"1\" /><path clip-path=\"url(#clip110)\" d=\"M194.19 1032.54 Q190.579 1032.54 188.75 1036.11 Q186.945 1039.65 186.945 1046.78 Q186.945 1053.89 188.75 1057.45 Q190.579 1060.99 194.19 1060.99 Q197.825 1060.99 199.63 1057.45 Q201.459 1053.89 201.459 1046.78 Q201.459 1039.65 199.63 1036.11 Q197.825 1032.54 194.19 1032.54 M194.19 1028.84 Q200 1028.84 203.056 1033.45 Q206.135 1038.03 206.135 1046.78 Q206.135 1055.51 203.056 1060.11 Q200 1064.7 194.19 1064.7 Q188.38 1064.7 185.301 1060.11 Q182.246 1055.51 182.246 1046.78 Q182.246 1038.03 185.301 1033.45 Q188.38 1028.84 194.19 1028.84 Z\" fill=\"#000000\" fill-rule=\"evenodd\" fill-opacity=\"1\" /><path clip-path=\"url(#clip110)\" d=\"M194.19 772.933 Q190.579 772.933 188.75 776.498 Q186.945 780.039 186.945 787.169 Q186.945 794.275 188.75 797.84 Q190.579 801.382 194.19 801.382 Q197.825 801.382 199.63 797.84 Q201.459 794.275 201.459 787.169 Q201.459 780.039 199.63 776.498 Q197.825 772.933 194.19 772.933 M194.19 769.229 Q200 769.229 203.056 773.836 Q206.135 778.419 206.135 787.169 Q206.135 795.896 203.056 800.502 Q200 805.085 194.19 805.085 Q188.38 805.085 185.301 800.502 Q182.246 795.896 182.246 787.169 Q182.246 778.419 185.301 773.836 Q188.38 769.229 194.19 769.229 Z\" fill=\"#000000\" fill-rule=\"evenodd\" fill-opacity=\"1\" /><path clip-path=\"url(#clip110)\" d=\"M154.839 540.868 L162.477 540.868 L162.477 514.503 L154.167 516.169 L154.167 511.91 L162.431 510.244 L167.107 510.244 L167.107 540.868 L174.746 540.868 L174.746 544.804 L154.839 544.804 L154.839 540.868 Z\" fill=\"#000000\" fill-rule=\"evenodd\" fill-opacity=\"1\" /><path clip-path=\"url(#clip110)\" d=\"M194.19 513.322 Q190.579 513.322 188.75 516.887 Q186.945 520.429 186.945 527.558 Q186.945 534.665 188.75 538.23 Q190.579 541.771 194.19 541.771 Q197.825 541.771 199.63 538.23 Q201.459 534.665 201.459 527.558 Q201.459 520.429 199.63 516.887 Q197.825 513.322 194.19 513.322 M194.19 509.619 Q200 509.619 203.056 514.225 Q206.135 518.808 206.135 527.558 Q206.135 536.285 203.056 540.892 Q200 545.475 194.19 545.475 Q188.38 545.475 185.301 540.892 Q182.246 536.285 182.246 527.558 Q182.246 518.808 185.301 514.225 Q188.38 509.619 194.19 509.619 Z\" fill=\"#000000\" fill-rule=\"evenodd\" fill-opacity=\"1\" /><path clip-path=\"url(#clip110)\" d=\"M158.056 281.258 L174.376 281.258 L174.376 285.193 L152.431 285.193 L152.431 281.258 Q155.093 278.503 159.677 273.874 Q164.283 269.221 165.464 267.878 Q167.709 265.355 168.589 263.619 Q169.491 261.86 169.491 260.17 Q169.491 257.415 167.547 255.679 Q165.626 253.943 162.524 253.943 Q160.325 253.943 157.871 254.707 Q155.44 255.471 152.663 257.022 L152.663 252.3 Q155.487 251.165 157.94 250.587 Q160.394 250.008 162.431 250.008 Q167.802 250.008 170.996 252.693 Q174.19 255.378 174.19 259.869 Q174.19 261.999 173.38 263.92 Q172.593 265.818 170.487 268.411 Q169.908 269.082 166.806 272.3 Q163.704 275.494 158.056 281.258 Z\" fill=\"#000000\" fill-rule=\"evenodd\" fill-opacity=\"1\" /><path clip-path=\"url(#clip110)\" d=\"M194.19 253.712 Q190.579 253.712 188.75 257.277 Q186.945 260.818 186.945 267.948 Q186.945 275.054 188.75 278.619 Q190.579 282.161 194.19 282.161 Q197.825 282.161 199.63 278.619 Q201.459 275.054 201.459 267.948 Q201.459 260.818 199.63 257.277 Q197.825 253.712 194.19 253.712 M194.19 250.008 Q200 250.008 203.056 254.614 Q206.135 259.198 206.135 267.948 Q206.135 276.675 203.056 281.281 Q200 285.864 194.19 285.864 Q188.38 285.864 185.301 281.281 Q182.246 276.675 182.246 267.948 Q182.246 259.198 185.301 254.614 Q188.38 250.008 194.19 250.008 Z\" fill=\"#000000\" fill-rule=\"evenodd\" fill-opacity=\"1\" /><path clip-path=\"url(#clip110)\" d=\"M67.3143 733.525 Q73.68 736.008 75.6216 738.363 Q77.5631 740.718 77.5631 744.665 L77.5631 749.344 L72.6615 749.344 L72.6615 745.906 Q72.6615 743.487 71.5157 742.151 Q70.3699 740.814 66.1048 739.191 L63.4312 738.14 L28.3562 752.559 L28.3562 746.352 L56.238 735.212 L28.3562 724.072 L28.3562 717.865 L67.3143 733.525 Z\" fill=\"#000000\" fill-rule=\"evenodd\" fill-opacity=\"1\" /><polyline clip-path=\"url(#clip112)\" style=\"stroke:#009af9; stroke-linecap:butt; stroke-linejoin:round; stroke-width:4; stroke-opacity:1; fill:none\" points=\"\n",
       "  1167.64,1384.24 1170.18,1371.56 1193.62,1254.35 1207.71,1183.91 1219.62,1124.35 1232.56,1059.66 1244.48,1000.01 1257.27,936.071 1272.09,861.987 1285.26,796.149 \n",
       "  1296.8,738.415 1309.39,675.47 1322.06,612.15 1336.06,542.143 1349.38,475.532 1363.23,406.273 1374.89,347.971 1389.13,276.791 1402.51,209.88 1423.95,102.683 \n",
       "  1427.25,86.1857 \n",
       "  \"/>\n",
       "<polyline clip-path=\"url(#clip112)\" style=\"stroke:#e26f46; stroke-linecap:butt; stroke-linejoin:round; stroke-width:4; stroke-opacity:1; fill:none\" points=\"\n",
       "  908.03,787.134 915.635,787.134 985.963,787.134 1028.23,787.134 1063.96,787.134 1102.78,787.134 1138.56,787.134 1176.93,787.134 1221.38,787.134 1260.88,787.134 \n",
       "  1295.52,787.134 1333.29,787.134 1371.28,787.134 1413.29,787.134 1453.25,787.134 1494.81,787.134 1529.79,787.134 1572.5,787.134 1612.64,787.134 1676.96,787.134 \n",
       "  1686.86,787.134 \n",
       "  \"/>\n",
       "<path clip-path=\"url(#clip110)\" d=\"\n",
       "M1995.46 274.549 L2282.4 274.549 L2282.4 93.1086 L1995.46 93.1086  Z\n",
       "  \" fill=\"#ffffff\" fill-rule=\"evenodd\" fill-opacity=\"1\"/>\n",
       "<polyline clip-path=\"url(#clip110)\" style=\"stroke:#000000; stroke-linecap:butt; stroke-linejoin:round; stroke-width:4; stroke-opacity:1; fill:none\" points=\"\n",
       "  1995.46,274.549 2282.4,274.549 2282.4,93.1086 1995.46,93.1086 1995.46,274.549 \n",
       "  \"/>\n",
       "<polyline clip-path=\"url(#clip110)\" style=\"stroke:#009af9; stroke-linecap:butt; stroke-linejoin:round; stroke-width:4; stroke-opacity:1; fill:none\" points=\"\n",
       "  2018.91,153.589 2159.62,153.589 \n",
       "  \"/>\n",
       "<path clip-path=\"url(#clip110)\" d=\"M2196.91 173.276 Q2195.11 177.906 2193.39 179.318 Q2191.68 180.73 2188.81 180.73 L2185.41 180.73 L2185.41 177.165 L2187.91 177.165 Q2189.67 177.165 2190.64 176.332 Q2191.61 175.498 2192.79 172.396 L2193.55 170.452 L2183.07 144.943 L2187.58 144.943 L2195.68 165.221 L2203.79 144.943 L2208.3 144.943 L2196.91 173.276 Z\" fill=\"#000000\" fill-rule=\"evenodd\" fill-opacity=\"1\" /><path clip-path=\"url(#clip110)\" d=\"M2215.59 166.933 L2223.23 166.933 L2223.23 140.568 L2214.92 142.235 L2214.92 137.975 L2223.18 136.309 L2227.86 136.309 L2227.86 166.933 L2235.5 166.933 L2235.5 170.869 L2215.59 170.869 L2215.59 166.933 Z\" fill=\"#000000\" fill-rule=\"evenodd\" fill-opacity=\"1\" /><polyline clip-path=\"url(#clip110)\" style=\"stroke:#e26f46; stroke-linecap:butt; stroke-linejoin:round; stroke-width:4; stroke-opacity:1; fill:none\" points=\"\n",
       "  2018.91,214.069 2159.62,214.069 \n",
       "  \"/>\n",
       "<path clip-path=\"url(#clip110)\" d=\"M2196.91 233.756 Q2195.11 238.386 2193.39 239.798 Q2191.68 241.21 2188.81 241.21 L2185.41 241.21 L2185.41 237.645 L2187.91 237.645 Q2189.67 237.645 2190.64 236.812 Q2191.61 235.978 2192.79 232.876 L2193.55 230.932 L2183.07 205.423 L2187.58 205.423 L2195.68 225.701 L2203.79 205.423 L2208.3 205.423 L2196.91 233.756 Z\" fill=\"#000000\" fill-rule=\"evenodd\" fill-opacity=\"1\" /><path clip-path=\"url(#clip110)\" d=\"M2218.81 227.413 L2235.13 227.413 L2235.13 231.349 L2213.18 231.349 L2213.18 227.413 Q2215.85 224.659 2220.43 220.029 Q2225.04 215.376 2226.22 214.034 Q2228.46 211.511 2229.34 209.775 Q2230.24 208.015 2230.24 206.326 Q2230.24 203.571 2228.3 201.835 Q2226.38 200.099 2223.28 200.099 Q2221.08 200.099 2218.62 200.863 Q2216.19 201.627 2213.42 203.177 L2213.42 198.455 Q2216.24 197.321 2218.69 196.742 Q2221.15 196.164 2223.18 196.164 Q2228.55 196.164 2231.75 198.849 Q2234.94 201.534 2234.94 206.025 Q2234.94 208.154 2234.13 210.076 Q2233.35 211.974 2231.24 214.566 Q2230.66 215.238 2227.56 218.455 Q2224.46 221.65 2218.81 227.413 Z\" fill=\"#000000\" fill-rule=\"evenodd\" fill-opacity=\"1\" /></svg>\n"
      ]
     },
     "execution_count": 39,
     "metadata": {},
     "output_type": "execute_result"
    }
   ],
   "source": [
    "plot!(aspect_ratio = 1, xlabel = \"x\", ylabel = \"y\")\n",
    "g(x) = 0\n",
    "plot!(g, -15,15)"
   ]
  },
  {
   "cell_type": "markdown",
   "metadata": {
    "deletable": false,
    "editable": false,
    "nbgrader": {
     "cell_type": "markdown",
     "checksum": "eb143b476451e8c726926f11aa78a093",
     "grade": false,
     "grade_id": "cell-9f1a99a3704a6484",
     "locked": true,
     "schema_version": 3,
     "solution": false,
     "task": false
    }
   },
   "source": [
    "We can now find that y = 2x intersects y = 0 at (0,0).  \n",
    "### Problem 2. Finding the solution to a system of equations\n",
    "\n",
    "                                                    2x − y = −1\n",
    "                                                     4x + y = 4\n",
    "                                                \n",
    "                                                \n",
    "                                                \n",
    "Step 1:  Rearrange Both equations so that y is isolated on the left side:\n",
    "\n",
    "Equation 1: y1 = ____________\n",
    "Equation 2: y2 = ____________"
   ]
  },
  {
   "cell_type": "code",
   "execution_count": 45,
   "metadata": {
    "deletable": false,
    "nbgrader": {
     "cell_type": "code",
     "checksum": "96d37de74b57efeaab99eaf498bcba3b",
     "grade": false,
     "grade_id": "problem2",
     "locked": false,
     "schema_version": 3,
     "solution": true,
     "task": false
    }
   },
   "outputs": [
    {
     "ename": "LoadError",
     "evalue": "MethodError: no method matching ErrorException()\n\u001b[0mClosest candidates are:\n\u001b[0m  ErrorException(\u001b[91m::AbstractString\u001b[39m) at boot.jl:257\n\u001b[0m  ErrorException(\u001b[91m::Any\u001b[39m) at boot.jl:257",
     "output_type": "error",
     "traceback": [
      "MethodError: no method matching ErrorException()\n\u001b[0mClosest candidates are:\n\u001b[0m  ErrorException(\u001b[91m::AbstractString\u001b[39m) at boot.jl:257\n\u001b[0m  ErrorException(\u001b[91m::Any\u001b[39m) at boot.jl:257",
      "",
      "Stacktrace:",
      " [1] top-level scope",
      "   @ In[45]:5",
      " [2] eval",
      "   @ ./boot.jl:360 [inlined]",
      " [3] include_string(mapexpr::typeof(REPL.softscope), mod::Module, code::String, filename::String)",
      "   @ Base ./loading.jl:1094"
     ]
    }
   ],
   "source": [
    "#now declare both of those equations as code functions y1(x) and y2(x)\n",
    "s(x) = 2x + 1\n",
    "r(x) = 4 - 4x\n",
    "# your code here\n",
    "throw(ErrorException())\n",
    "\n",
    "#Plot them on the same graph.  This shows another way to plot multiple things at once\n",
    "#plot([y1,y2], -5, 5)\n",
    "#plot([s,r], -5, -5)"
   ]
  },
  {
   "cell_type": "code",
   "execution_count": 49,
   "metadata": {},
   "outputs": [
    {
     "data": {
      "image/svg+xml": [
       "<?xml version=\"1.0\" encoding=\"utf-8\"?>\n",
       "<svg xmlns=\"http://www.w3.org/2000/svg\" xmlns:xlink=\"http://www.w3.org/1999/xlink\" width=\"600\" height=\"400\" viewBox=\"0 0 2400 1600\">\n",
       "<defs>\n",
       "  <clipPath id=\"clip230\">\n",
       "    <rect x=\"0\" y=\"0\" width=\"2400\" height=\"1600\"/>\n",
       "  </clipPath>\n",
       "</defs>\n",
       "<path clip-path=\"url(#clip230)\" d=\"\n",
       "M0 1600 L2400 1600 L2400 0 L0 0  Z\n",
       "  \" fill=\"#ffffff\" fill-rule=\"evenodd\" fill-opacity=\"1\"/>\n",
       "<defs>\n",
       "  <clipPath id=\"clip231\">\n",
       "    <rect x=\"480\" y=\"0\" width=\"1681\" height=\"1600\"/>\n",
       "  </clipPath>\n",
       "</defs>\n",
       "<path clip-path=\"url(#clip230)\" d=\"\n",
       "M178.867 1486.45 L2352.76 1486.45 L2352.76 47.2441 L178.867 47.2441  Z\n",
       "  \" fill=\"#ffffff\" fill-rule=\"evenodd\" fill-opacity=\"1\"/>\n",
       "<defs>\n",
       "  <clipPath id=\"clip232\">\n",
       "    <rect x=\"178\" y=\"47\" width=\"2175\" height=\"1440\"/>\n",
       "  </clipPath>\n",
       "</defs>\n",
       "<polyline clip-path=\"url(#clip232)\" style=\"stroke:#000000; stroke-linecap:butt; stroke-linejoin:round; stroke-width:2; stroke-opacity:0.1; fill:none\" points=\"\n",
       "  445.476,1486.45 445.476,47.2441 \n",
       "  \"/>\n",
       "<polyline clip-path=\"url(#clip232)\" style=\"stroke:#000000; stroke-linecap:butt; stroke-linejoin:round; stroke-width:2; stroke-opacity:0.1; fill:none\" points=\"\n",
       "  855.643,1486.45 855.643,47.2441 \n",
       "  \"/>\n",
       "<polyline clip-path=\"url(#clip232)\" style=\"stroke:#000000; stroke-linecap:butt; stroke-linejoin:round; stroke-width:2; stroke-opacity:0.1; fill:none\" points=\"\n",
       "  1265.81,1486.45 1265.81,47.2441 \n",
       "  \"/>\n",
       "<polyline clip-path=\"url(#clip232)\" style=\"stroke:#000000; stroke-linecap:butt; stroke-linejoin:round; stroke-width:2; stroke-opacity:0.1; fill:none\" points=\"\n",
       "  1675.98,1486.45 1675.98,47.2441 \n",
       "  \"/>\n",
       "<polyline clip-path=\"url(#clip232)\" style=\"stroke:#000000; stroke-linecap:butt; stroke-linejoin:round; stroke-width:2; stroke-opacity:0.1; fill:none\" points=\"\n",
       "  2086.15,1486.45 2086.15,47.2441 \n",
       "  \"/>\n",
       "<polyline clip-path=\"url(#clip230)\" style=\"stroke:#000000; stroke-linecap:butt; stroke-linejoin:round; stroke-width:4; stroke-opacity:1; fill:none\" points=\"\n",
       "  178.867,1486.45 2352.76,1486.45 \n",
       "  \"/>\n",
       "<polyline clip-path=\"url(#clip230)\" style=\"stroke:#000000; stroke-linecap:butt; stroke-linejoin:round; stroke-width:4; stroke-opacity:1; fill:none\" points=\"\n",
       "  445.476,1486.45 445.476,1469.18 \n",
       "  \"/>\n",
       "<polyline clip-path=\"url(#clip230)\" style=\"stroke:#000000; stroke-linecap:butt; stroke-linejoin:round; stroke-width:4; stroke-opacity:1; fill:none\" points=\"\n",
       "  855.643,1486.45 855.643,1469.18 \n",
       "  \"/>\n",
       "<polyline clip-path=\"url(#clip230)\" style=\"stroke:#000000; stroke-linecap:butt; stroke-linejoin:round; stroke-width:4; stroke-opacity:1; fill:none\" points=\"\n",
       "  1265.81,1486.45 1265.81,1469.18 \n",
       "  \"/>\n",
       "<polyline clip-path=\"url(#clip230)\" style=\"stroke:#000000; stroke-linecap:butt; stroke-linejoin:round; stroke-width:4; stroke-opacity:1; fill:none\" points=\"\n",
       "  1675.98,1486.45 1675.98,1469.18 \n",
       "  \"/>\n",
       "<polyline clip-path=\"url(#clip230)\" style=\"stroke:#000000; stroke-linecap:butt; stroke-linejoin:round; stroke-width:4; stroke-opacity:1; fill:none\" points=\"\n",
       "  2086.15,1486.45 2086.15,1469.18 \n",
       "  \"/>\n",
       "<path clip-path=\"url(#clip230)\" d=\"M414.376 1530.29 L444.052 1530.29 L444.052 1534.23 L414.376 1534.23 L414.376 1530.29 Z\" fill=\"#000000\" fill-rule=\"evenodd\" fill-opacity=\"1\" /><path clip-path=\"url(#clip230)\" d=\"M466.992 1516.63 L455.186 1535.08 L466.992 1535.08 L466.992 1516.63 M465.765 1512.56 L471.645 1512.56 L471.645 1535.08 L476.575 1535.08 L476.575 1538.97 L471.645 1538.97 L471.645 1547.12 L466.992 1547.12 L466.992 1538.97 L451.39 1538.97 L451.39 1534.46 L465.765 1512.56 Z\" fill=\"#000000\" fill-rule=\"evenodd\" fill-opacity=\"1\" /><path clip-path=\"url(#clip230)\" d=\"M825.586 1530.29 L855.262 1530.29 L855.262 1534.23 L825.586 1534.23 L825.586 1530.29 Z\" fill=\"#000000\" fill-rule=\"evenodd\" fill-opacity=\"1\" /><path clip-path=\"url(#clip230)\" d=\"M869.382 1543.18 L885.701 1543.18 L885.701 1547.12 L863.757 1547.12 L863.757 1543.18 Q866.419 1540.43 871.002 1535.8 Q875.609 1531.15 876.789 1529.81 Q879.035 1527.28 879.914 1525.55 Q880.817 1523.79 880.817 1522.1 Q880.817 1519.34 878.873 1517.61 Q876.951 1515.87 873.849 1515.87 Q871.65 1515.87 869.197 1516.63 Q866.766 1517.4 863.988 1518.95 L863.988 1514.23 Q866.812 1513.09 869.266 1512.51 Q871.72 1511.93 873.757 1511.93 Q879.127 1511.93 882.322 1514.62 Q885.516 1517.31 885.516 1521.8 Q885.516 1523.93 884.706 1525.85 Q883.919 1527.74 881.812 1530.34 Q881.234 1531.01 878.132 1534.23 Q875.03 1537.42 869.382 1543.18 Z\" fill=\"#000000\" fill-rule=\"evenodd\" fill-opacity=\"1\" /><path clip-path=\"url(#clip230)\" d=\"M1265.81 1515.64 Q1262.2 1515.64 1260.37 1519.2 Q1258.57 1522.75 1258.57 1529.87 Q1258.57 1536.98 1260.37 1540.55 Q1262.2 1544.09 1265.81 1544.09 Q1269.45 1544.09 1271.25 1540.55 Q1273.08 1536.98 1273.08 1529.87 Q1273.08 1522.75 1271.25 1519.2 Q1269.45 1515.64 1265.81 1515.64 M1265.81 1511.93 Q1271.62 1511.93 1274.68 1516.54 Q1277.76 1521.12 1277.76 1529.87 Q1277.76 1538.6 1274.68 1543.21 Q1271.62 1547.79 1265.81 1547.79 Q1260 1547.79 1256.92 1543.21 Q1253.87 1538.6 1253.87 1529.87 Q1253.87 1521.12 1256.92 1516.54 Q1260 1511.93 1265.81 1511.93 Z\" fill=\"#000000\" fill-rule=\"evenodd\" fill-opacity=\"1\" /><path clip-path=\"url(#clip230)\" d=\"M1670.63 1543.18 L1686.95 1543.18 L1686.95 1547.12 L1665.01 1547.12 L1665.01 1543.18 Q1667.67 1540.43 1672.25 1535.8 Q1676.86 1531.15 1678.04 1529.81 Q1680.28 1527.28 1681.16 1525.55 Q1682.07 1523.79 1682.07 1522.1 Q1682.07 1519.34 1680.12 1517.61 Q1678.2 1515.87 1675.1 1515.87 Q1672.9 1515.87 1670.45 1516.63 Q1668.02 1517.4 1665.24 1518.95 L1665.24 1514.23 Q1668.06 1513.09 1670.52 1512.51 Q1672.97 1511.93 1675.01 1511.93 Q1680.38 1511.93 1683.57 1514.62 Q1686.77 1517.31 1686.77 1521.8 Q1686.77 1523.93 1685.96 1525.85 Q1685.17 1527.74 1683.06 1530.34 Q1682.48 1531.01 1679.38 1534.23 Q1676.28 1537.42 1670.63 1543.18 Z\" fill=\"#000000\" fill-rule=\"evenodd\" fill-opacity=\"1\" /><path clip-path=\"url(#clip230)\" d=\"M2089.16 1516.63 L2077.35 1535.08 L2089.16 1535.08 L2089.16 1516.63 M2087.93 1512.56 L2093.81 1512.56 L2093.81 1535.08 L2098.74 1535.08 L2098.74 1538.97 L2093.81 1538.97 L2093.81 1547.12 L2089.16 1547.12 L2089.16 1538.97 L2073.55 1538.97 L2073.55 1534.46 L2087.93 1512.56 Z\" fill=\"#000000\" fill-rule=\"evenodd\" fill-opacity=\"1\" /><polyline clip-path=\"url(#clip232)\" style=\"stroke:#000000; stroke-linecap:butt; stroke-linejoin:round; stroke-width:2; stroke-opacity:0.1; fill:none\" points=\"\n",
       "  178.867,1242.05 2352.76,1242.05 \n",
       "  \"/>\n",
       "<polyline clip-path=\"url(#clip232)\" style=\"stroke:#000000; stroke-linecap:butt; stroke-linejoin:round; stroke-width:2; stroke-opacity:0.1; fill:none\" points=\"\n",
       "  178.867,902.62 2352.76,902.62 \n",
       "  \"/>\n",
       "<polyline clip-path=\"url(#clip232)\" style=\"stroke:#000000; stroke-linecap:butt; stroke-linejoin:round; stroke-width:2; stroke-opacity:0.1; fill:none\" points=\"\n",
       "  178.867,563.185 2352.76,563.185 \n",
       "  \"/>\n",
       "<polyline clip-path=\"url(#clip232)\" style=\"stroke:#000000; stroke-linecap:butt; stroke-linejoin:round; stroke-width:2; stroke-opacity:0.1; fill:none\" points=\"\n",
       "  178.867,223.75 2352.76,223.75 \n",
       "  \"/>\n",
       "<polyline clip-path=\"url(#clip230)\" style=\"stroke:#000000; stroke-linecap:butt; stroke-linejoin:round; stroke-width:4; stroke-opacity:1; fill:none\" points=\"\n",
       "  178.867,1486.45 178.867,47.2441 \n",
       "  \"/>\n",
       "<polyline clip-path=\"url(#clip230)\" style=\"stroke:#000000; stroke-linecap:butt; stroke-linejoin:round; stroke-width:4; stroke-opacity:1; fill:none\" points=\"\n",
       "  178.867,1242.05 204.953,1242.05 \n",
       "  \"/>\n",
       "<polyline clip-path=\"url(#clip230)\" style=\"stroke:#000000; stroke-linecap:butt; stroke-linejoin:round; stroke-width:4; stroke-opacity:1; fill:none\" points=\"\n",
       "  178.867,902.62 204.953,902.62 \n",
       "  \"/>\n",
       "<polyline clip-path=\"url(#clip230)\" style=\"stroke:#000000; stroke-linecap:butt; stroke-linejoin:round; stroke-width:4; stroke-opacity:1; fill:none\" points=\"\n",
       "  178.867,563.185 204.953,563.185 \n",
       "  \"/>\n",
       "<polyline clip-path=\"url(#clip230)\" style=\"stroke:#000000; stroke-linecap:butt; stroke-linejoin:round; stroke-width:4; stroke-opacity:1; fill:none\" points=\"\n",
       "  178.867,223.75 204.953,223.75 \n",
       "  \"/>\n",
       "<path clip-path=\"url(#clip230)\" d=\"M50.9921 1242.51 L80.6679 1242.51 L80.6679 1246.44 L50.9921 1246.44 L50.9921 1242.51 Z\" fill=\"#000000\" fill-rule=\"evenodd\" fill-opacity=\"1\" /><path clip-path=\"url(#clip230)\" d=\"M91.5706 1255.4 L99.2095 1255.4 L99.2095 1229.03 L90.8993 1230.7 L90.8993 1226.44 L99.1632 1224.77 L103.839 1224.77 L103.839 1255.4 L111.478 1255.4 L111.478 1259.33 L91.5706 1259.33 L91.5706 1255.4 Z\" fill=\"#000000\" fill-rule=\"evenodd\" fill-opacity=\"1\" /><path clip-path=\"url(#clip230)\" d=\"M130.922 1227.85 Q127.311 1227.85 125.482 1231.42 Q123.677 1234.96 123.677 1242.09 Q123.677 1249.2 125.482 1252.76 Q127.311 1256.3 130.922 1256.3 Q134.556 1256.3 136.362 1252.76 Q138.191 1249.2 138.191 1242.09 Q138.191 1234.96 136.362 1231.42 Q134.556 1227.85 130.922 1227.85 M130.922 1224.15 Q136.732 1224.15 139.788 1228.76 Q142.867 1233.34 142.867 1242.09 Q142.867 1250.82 139.788 1255.42 Q136.732 1260.01 130.922 1260.01 Q125.112 1260.01 122.033 1255.42 Q118.978 1250.82 118.978 1242.09 Q118.978 1233.34 122.033 1228.76 Q125.112 1224.15 130.922 1224.15 Z\" fill=\"#000000\" fill-rule=\"evenodd\" fill-opacity=\"1\" /><path clip-path=\"url(#clip230)\" d=\"M130.922 888.419 Q127.311 888.419 125.482 891.983 Q123.677 895.525 123.677 902.655 Q123.677 909.761 125.482 913.326 Q127.311 916.868 130.922 916.868 Q134.556 916.868 136.362 913.326 Q138.191 909.761 138.191 902.655 Q138.191 895.525 136.362 891.983 Q134.556 888.419 130.922 888.419 M130.922 884.715 Q136.732 884.715 139.788 889.321 Q142.867 893.905 142.867 902.655 Q142.867 911.381 139.788 915.988 Q136.732 920.571 130.922 920.571 Q125.112 920.571 122.033 915.988 Q118.978 911.381 118.978 902.655 Q118.978 893.905 122.033 889.321 Q125.112 884.715 130.922 884.715 Z\" fill=\"#000000\" fill-rule=\"evenodd\" fill-opacity=\"1\" /><path clip-path=\"url(#clip230)\" d=\"M91.5706 576.53 L99.2095 576.53 L99.2095 550.164 L90.8993 551.831 L90.8993 547.572 L99.1632 545.905 L103.839 545.905 L103.839 576.53 L111.478 576.53 L111.478 580.465 L91.5706 580.465 L91.5706 576.53 Z\" fill=\"#000000\" fill-rule=\"evenodd\" fill-opacity=\"1\" /><path clip-path=\"url(#clip230)\" d=\"M130.922 548.984 Q127.311 548.984 125.482 552.549 Q123.677 556.09 123.677 563.22 Q123.677 570.326 125.482 573.891 Q127.311 577.433 130.922 577.433 Q134.556 577.433 136.362 573.891 Q138.191 570.326 138.191 563.22 Q138.191 556.09 136.362 552.549 Q134.556 548.984 130.922 548.984 M130.922 545.28 Q136.732 545.28 139.788 549.887 Q142.867 554.47 142.867 563.22 Q142.867 571.947 139.788 576.553 Q136.732 581.136 130.922 581.136 Q125.112 581.136 122.033 576.553 Q118.978 571.947 118.978 563.22 Q118.978 554.47 122.033 549.887 Q125.112 545.28 130.922 545.28 Z\" fill=\"#000000\" fill-rule=\"evenodd\" fill-opacity=\"1\" /><path clip-path=\"url(#clip230)\" d=\"M94.7882 237.095 L111.108 237.095 L111.108 241.03 L89.1632 241.03 L89.1632 237.095 Q91.8252 234.34 96.4085 229.711 Q101.015 225.058 102.196 223.715 Q104.441 221.192 105.321 219.456 Q106.223 217.697 106.223 216.007 Q106.223 213.253 104.279 211.516 Q102.358 209.78 99.2558 209.78 Q97.0567 209.78 94.603 210.544 Q92.1725 211.308 89.3947 212.859 L89.3947 208.137 Q92.2188 207.003 94.6724 206.424 Q97.1261 205.845 99.1632 205.845 Q104.534 205.845 107.728 208.53 Q110.922 211.216 110.922 215.706 Q110.922 217.836 110.112 219.757 Q109.325 221.655 107.219 224.248 Q106.64 224.919 103.538 228.137 Q100.436 231.331 94.7882 237.095 Z\" fill=\"#000000\" fill-rule=\"evenodd\" fill-opacity=\"1\" /><path clip-path=\"url(#clip230)\" d=\"M130.922 209.549 Q127.311 209.549 125.482 213.114 Q123.677 216.655 123.677 223.785 Q123.677 230.891 125.482 234.456 Q127.311 237.998 130.922 237.998 Q134.556 237.998 136.362 234.456 Q138.191 230.891 138.191 223.785 Q138.191 216.655 136.362 213.114 Q134.556 209.549 130.922 209.549 M130.922 205.845 Q136.732 205.845 139.788 210.452 Q142.867 215.035 142.867 223.785 Q142.867 232.512 139.788 237.118 Q136.732 241.702 130.922 241.702 Q125.112 241.702 122.033 237.118 Q118.978 232.512 118.978 223.785 Q118.978 215.035 122.033 210.452 Q125.112 205.845 130.922 205.845 Z\" fill=\"#000000\" fill-rule=\"evenodd\" fill-opacity=\"1\" /><polyline clip-path=\"url(#clip232)\" style=\"stroke:#009af9; stroke-linecap:butt; stroke-linejoin:round; stroke-width:4; stroke-opacity:1; fill:none\" points=\"\n",
       "  240.392,1208.11 260.42,1201.48 445.609,1140.18 556.9,1103.34 650.995,1072.19 753.208,1038.36 847.44,1007.17 948.466,973.724 1065.52,934.978 1169.53,900.546 \n",
       "  1260.75,870.352 1360.2,837.432 1460.24,804.316 1570.85,767.703 1676.09,732.866 1785.51,696.644 1877.63,666.153 1990.09,628.926 2095.8,593.932 2265.17,537.869 \n",
       "  2291.23,529.242 \n",
       "  \"/>\n",
       "<polyline clip-path=\"url(#clip232)\" style=\"stroke:#e26f46; stroke-linecap:butt; stroke-linejoin:round; stroke-width:4; stroke-opacity:1; fill:none\" points=\"\n",
       "  240.392,87.9763 260.42,101.236 445.609,223.838 556.9,297.517 650.995,359.812 753.208,427.482 847.44,489.867 948.466,556.751 1065.52,634.242 1169.53,703.107 \n",
       "  1260.75,763.496 1360.2,829.335 1460.24,895.566 1570.85,968.793 1676.09,1038.47 1785.51,1110.91 1877.63,1171.89 1990.09,1246.35 2095.8,1316.33 2265.17,1428.46 \n",
       "  2291.23,1445.72 \n",
       "  \"/>\n",
       "<path clip-path=\"url(#clip230)\" d=\"\n",
       "M1986.32 276.658 L2280.29 276.658 L2280.29 95.2176 L1986.32 95.2176  Z\n",
       "  \" fill=\"#ffffff\" fill-rule=\"evenodd\" fill-opacity=\"1\"/>\n",
       "<polyline clip-path=\"url(#clip230)\" style=\"stroke:#000000; stroke-linecap:butt; stroke-linejoin:round; stroke-width:4; stroke-opacity:1; fill:none\" points=\"\n",
       "  1986.32,276.658 2280.29,276.658 2280.29,95.2176 1986.32,95.2176 1986.32,276.658 \n",
       "  \"/>\n",
       "<polyline clip-path=\"url(#clip230)\" style=\"stroke:#009af9; stroke-linecap:butt; stroke-linejoin:round; stroke-width:4; stroke-opacity:1; fill:none\" points=\"\n",
       "  2010.47,155.698 2155.4,155.698 \n",
       "  \"/>\n",
       "<path clip-path=\"url(#clip230)\" d=\"M2193.4 175.385 Q2191.59 180.015 2189.88 181.427 Q2188.17 182.839 2185.29 182.839 L2181.89 182.839 L2181.89 179.274 L2184.39 179.274 Q2186.15 179.274 2187.12 178.44 Q2188.1 177.607 2189.28 174.505 L2190.04 172.561 L2179.55 147.052 L2184.07 147.052 L2192.17 167.329 L2200.27 147.052 L2204.79 147.052 L2193.4 175.385 Z\" fill=\"#000000\" fill-rule=\"evenodd\" fill-opacity=\"1\" /><path clip-path=\"url(#clip230)\" d=\"M2212.08 169.042 L2219.72 169.042 L2219.72 142.677 L2211.41 144.343 L2211.41 140.084 L2219.67 138.418 L2224.35 138.418 L2224.35 169.042 L2231.98 169.042 L2231.98 172.978 L2212.08 172.978 L2212.08 169.042 Z\" fill=\"#000000\" fill-rule=\"evenodd\" fill-opacity=\"1\" /><polyline clip-path=\"url(#clip230)\" style=\"stroke:#e26f46; stroke-linecap:butt; stroke-linejoin:round; stroke-width:4; stroke-opacity:1; fill:none\" points=\"\n",
       "  2010.47,216.178 2155.4,216.178 \n",
       "  \"/>\n",
       "<path clip-path=\"url(#clip230)\" d=\"M2193.4 235.865 Q2191.59 240.495 2189.88 241.907 Q2188.17 243.319 2185.29 243.319 L2181.89 243.319 L2181.89 239.754 L2184.39 239.754 Q2186.15 239.754 2187.12 238.92 Q2188.1 238.087 2189.28 234.985 L2190.04 233.041 L2179.55 207.532 L2184.07 207.532 L2192.17 227.809 L2200.27 207.532 L2204.79 207.532 L2193.4 235.865 Z\" fill=\"#000000\" fill-rule=\"evenodd\" fill-opacity=\"1\" /><path clip-path=\"url(#clip230)\" d=\"M2215.29 229.522 L2231.61 229.522 L2231.61 233.458 L2209.67 233.458 L2209.67 229.522 Q2212.33 226.768 2216.91 222.138 Q2221.52 217.485 2222.7 216.143 Q2224.95 213.62 2225.83 211.884 Q2226.73 210.124 2226.73 208.435 Q2226.73 205.68 2224.79 203.944 Q2222.86 202.208 2219.76 202.208 Q2217.56 202.208 2215.11 202.972 Q2212.68 203.735 2209.9 205.286 L2209.9 200.564 Q2212.73 199.43 2215.18 198.851 Q2217.63 198.273 2219.67 198.273 Q2225.04 198.273 2228.23 200.958 Q2231.43 203.643 2231.43 208.134 Q2231.43 210.263 2230.62 212.185 Q2229.83 214.083 2227.73 216.675 Q2227.15 217.347 2224.04 220.564 Q2220.94 223.759 2215.29 229.522 Z\" fill=\"#000000\" fill-rule=\"evenodd\" fill-opacity=\"1\" /></svg>\n"
      ]
     },
     "execution_count": 49,
     "metadata": {},
     "output_type": "execute_result"
    }
   ],
   "source": [
    "plot([s,r], -5, 5)"
   ]
  },
  {
   "cell_type": "code",
   "execution_count": null,
   "metadata": {
    "deletable": false,
    "editable": false,
    "nbgrader": {
     "cell_type": "code",
     "checksum": "4a295f2ea694c0a81682e697c3308eb0",
     "grade": true,
     "grade_id": "problem2test",
     "locked": true,
     "points": 2,
     "schema_version": 3,
     "solution": false,
     "task": false
    }
   },
   "outputs": [],
   "source": [
    "#Grader Cell\n",
    "@assert y1(0) == 1\n",
    "@assert y2(0) == 4"
   ]
  },
  {
   "cell_type": "markdown",
   "metadata": {
    "deletable": false,
    "editable": false,
    "nbgrader": {
     "cell_type": "markdown",
     "checksum": "fc0e17f22fa7dc8690c150ef7872c7bd",
     "grade": false,
     "grade_id": "cell-f143e1884da392e8",
     "locked": true,
     "schema_version": 3,
     "solution": false,
     "task": false
    }
   },
   "source": [
    "Now that you have plotted the system, you can find the solution as the intersection of the lines.  Pretty neat!"
   ]
  },
  {
   "cell_type": "markdown",
   "metadata": {},
   "source": [
    "### Problem 3. Creating Arrays\n",
    "### a)  Create a row vector called rowVect that contains the numbers 1 through 10"
   ]
  },
  {
   "cell_type": "code",
   "execution_count": 50,
   "metadata": {
    "deletable": false,
    "nbgrader": {
     "cell_type": "code",
     "checksum": "9c05b20ce68c78e6991afaa057377696",
     "grade": false,
     "grade_id": "problem3a",
     "locked": false,
     "schema_version": 3,
     "solution": true,
     "task": false
    }
   },
   "outputs": [
    {
     "data": {
      "text/plain": [
       "1×10 Matrix{Int64}:\n",
       " 1  2  3  4  5  6  7  8  9  10"
      ]
     },
     "execution_count": 50,
     "metadata": {},
     "output_type": "execute_result"
    }
   ],
   "source": [
    "#output should be\n",
    "#1 2 3 4 5 6 7 8 9 10\n",
    "# your code here\n",
    "[ 1 2 3 4 5 6 7 8 9 10]\n",
    "#throw(ErrorException())"
   ]
  },
  {
   "cell_type": "code",
   "execution_count": null,
   "metadata": {
    "deletable": false,
    "editable": false,
    "nbgrader": {
     "cell_type": "code",
     "checksum": "f1429a3fcbfc7e92f9405471e1029fbd",
     "grade": true,
     "grade_id": "problem3a_test",
     "locked": true,
     "points": 2,
     "schema_version": 3,
     "solution": false,
     "task": false
    }
   },
   "outputs": [],
   "source": [
    "#autograder cell"
   ]
  },
  {
   "cell_type": "markdown",
   "metadata": {},
   "source": [
    "### b) Create a column vector called colVect that contains the numbers 11 through 20"
   ]
  },
  {
   "cell_type": "code",
   "execution_count": 51,
   "metadata": {
    "deletable": false,
    "nbgrader": {
     "cell_type": "code",
     "checksum": "48e886474c42891dda0a33d94b9c7f84",
     "grade": false,
     "grade_id": "problem3b",
     "locked": false,
     "schema_version": 3,
     "solution": true,
     "task": false
    }
   },
   "outputs": [
    {
     "data": {
      "text/plain": [
       "10-element Vector{Int64}:\n",
       " 11\n",
       " 12\n",
       " 13\n",
       " 14\n",
       " 15\n",
       " 16\n",
       " 17\n",
       " 18\n",
       " 19\n",
       " 20"
      ]
     },
     "execution_count": 51,
     "metadata": {},
     "output_type": "execute_result"
    }
   ],
   "source": [
    "#output should be\n",
    "#11 \n",
    "#12\n",
    "#13\n",
    "#14\n",
    "#15\n",
    "#16\n",
    "#17\n",
    "#18\n",
    "#19\n",
    "#20\n",
    "[11;12;13;14;15;16;17;18;19;20]\n",
    "# your code here\n",
    "#throw(ErrorException())"
   ]
  },
  {
   "cell_type": "code",
   "execution_count": null,
   "metadata": {
    "deletable": false,
    "editable": false,
    "nbgrader": {
     "cell_type": "code",
     "checksum": "083899120b903068df66c4131ee2dbaa",
     "grade": true,
     "grade_id": "problem3b_test",
     "locked": true,
     "points": 2,
     "schema_version": 3,
     "solution": false,
     "task": false
    }
   },
   "outputs": [],
   "source": [
    "#autograder cell"
   ]
  },
  {
   "cell_type": "markdown",
   "metadata": {},
   "source": [
    "**Note: Other ways to build vectors**\n",
    "* Range notation n:k:m will start at n and take steps of size k to reach m.  Use collect(n:k:m) to make it into a vector\n",
    "* A[:] converts a matrix A to a vector by concatenating the columns of the matrix A\n",
    "* diag() returns the diagonal elements of a matrix as a vector"
   ]
  },
  {
   "cell_type": "markdown",
   "metadata": {},
   "source": [
    "### Problem 4.\n",
    "a) Use indexing [] to return the \"panda\".  Keep in mind that Julia indexes refer to the location in a vector."
   ]
  },
  {
   "cell_type": "code",
   "execution_count": 55,
   "metadata": {
    "deletable": false,
    "nbgrader": {
     "cell_type": "code",
     "checksum": "b21d9b84410180b0ef4c062b3f058137",
     "grade": false,
     "grade_id": "problem4a",
     "locked": false,
     "schema_version": 3,
     "solution": true,
     "task": false
    }
   },
   "outputs": [
    {
     "data": {
      "text/plain": [
       "\"panda\""
      ]
     },
     "execution_count": 55,
     "metadata": {},
     "output_type": "execute_result"
    }
   ],
   "source": [
    "animalsVector = [\"lemur\", \"elephant\", \"tiger\", \"panda\", \"zebra\", \"cuttlefish\"]\n",
    "myPanda = animalsVector[4]\n",
    "# your code here\n",
    "#throw(ErrorException())"
   ]
  },
  {
   "cell_type": "code",
   "execution_count": null,
   "metadata": {
    "deletable": false,
    "editable": false,
    "nbgrader": {
     "cell_type": "code",
     "checksum": "d01ff92ee7c9ec7f71f29b7c34452251",
     "grade": true,
     "grade_id": "problem4a_test",
     "locked": true,
     "points": 2,
     "schema_version": 3,
     "solution": false,
     "task": false
    }
   },
   "outputs": [],
   "source": [
    "#autograder cell\n",
    "@assert myPanda == \"panda\""
   ]
  },
  {
   "cell_type": "markdown",
   "metadata": {
    "tags": []
   },
   "source": [
    "b) Use indexing to return the \"lemur\". (Hint: what index number do julia vectors start from?)"
   ]
  },
  {
   "cell_type": "code",
   "execution_count": null,
   "metadata": {
    "deletable": false,
    "nbgrader": {
     "cell_type": "code",
     "checksum": "06c6bcd4edd66c1b583cfdb286da45d8",
     "grade": false,
     "grade_id": "problem4b",
     "locked": false,
     "schema_version": 3,
     "solution": true,
     "task": false
    }
   },
   "outputs": [],
   "source": [
    "myLemur = \n",
    "# your code here\n",
    "throw(ErrorException())"
   ]
  },
  {
   "cell_type": "code",
   "execution_count": null,
   "metadata": {
    "deletable": false,
    "editable": false,
    "nbgrader": {
     "cell_type": "code",
     "checksum": "36f38c2c25d8f40e2c264bb4f6cbcc6d",
     "grade": true,
     "grade_id": "problem4b_test",
     "locked": true,
     "points": 2,
     "schema_version": 3,
     "solution": false,
     "task": false
    }
   },
   "outputs": [],
   "source": [
    "#autograder cell\n",
    "@assert myLemur == \"lemur\""
   ]
  },
  {
   "cell_type": "markdown",
   "metadata": {},
   "source": [
    "### Problem 5. Special Matrix commands\n",
    "### a) Create a matrix called onesMat of ones with 3 rows and 4 columns"
   ]
  },
  {
   "cell_type": "code",
   "execution_count": 57,
   "metadata": {
    "deletable": false,
    "nbgrader": {
     "cell_type": "code",
     "checksum": "0c7b2dbf73d5f196551567f9da49e042",
     "grade": false,
     "grade_id": "problem5a",
     "locked": false,
     "schema_version": 3,
     "solution": true,
     "task": false
    }
   },
   "outputs": [
    {
     "data": {
      "text/plain": [
       "3×4 Matrix{Float64}:\n",
       " 1.0  1.0  1.0  1.0\n",
       " 1.0  1.0  1.0  1.0\n",
       " 1.0  1.0  1.0  1.0"
      ]
     },
     "execution_count": 57,
     "metadata": {},
     "output_type": "execute_result"
    }
   ],
   "source": [
    "#Hint: see note below for a shortcut method\n",
    "# your code here\n",
    "#onesMat = [1 1 1 1; 1 1 1 1; 1 1 1 1]\n",
    "onesMat = ones(3,4)\n",
    "#throw(ErrorException())"
   ]
  },
  {
   "cell_type": "code",
   "execution_count": null,
   "metadata": {
    "deletable": false,
    "editable": false,
    "nbgrader": {
     "cell_type": "code",
     "checksum": "83246f686c4bc1b8d0f2a78e266c5d90",
     "grade": true,
     "grade_id": "problem5a_test",
     "locked": true,
     "points": 2,
     "schema_version": 3,
     "solution": false,
     "task": false
    }
   },
   "outputs": [],
   "source": [
    "#autograder cell"
   ]
  },
  {
   "cell_type": "markdown",
   "metadata": {},
   "source": [
    "### b) Create a matrix A of random numbers from a standard normal distribution with dimmensions (17,8) as shown in the autograder cell."
   ]
  },
  {
   "cell_type": "code",
   "execution_count": 60,
   "metadata": {
    "deletable": false,
    "nbgrader": {
     "cell_type": "code",
     "checksum": "c6e8b02f1d1ac6094cc10cf30a893f50",
     "grade": false,
     "grade_id": "problem5b",
     "locked": false,
     "schema_version": 3,
     "solution": true,
     "task": false
    }
   },
   "outputs": [
    {
     "data": {
      "text/plain": [
       "17×8 Matrix{Float64}:\n",
       "  1.41574    -0.272582   -2.03602    …   0.742505   -0.0418251   0.316457\n",
       "  0.91837    -0.330776   -0.108342       0.0908473  -1.96454     0.626857\n",
       " -1.93709     0.231925    2.22173        0.202432   -1.06178     0.575622\n",
       " -1.52531     0.396837   -1.18134       -1.62073    -0.706213    0.305637\n",
       " -0.167786    0.491296   -0.351851      -0.703049   -1.67647    -1.30153\n",
       " -0.0701633   0.396763   -1.74247    …   0.450838   -0.97962    -0.550616\n",
       "  0.41036    -0.521058    0.253577      -0.829731   -0.201572   -1.56191\n",
       "  0.814533   -0.54407    -1.90728       -0.193571   -0.0834691  -0.37787\n",
       " -0.672411    1.34133     0.730836       0.887936   -0.784816   -0.733133\n",
       "  0.734643   -0.128113    0.80485        0.209781   -0.180547    0.244358\n",
       " -0.173581   -0.964412    0.444379   …  -0.726428   -0.786069    0.404841\n",
       "  0.425357    1.01117     0.273237       1.47046    -1.01591     1.03827\n",
       " -0.790062   -1.52431    -1.06302       -0.760202    0.674594   -1.60575\n",
       " -0.477673   -0.984827    2.10515        0.101492    0.140118   -1.0715\n",
       "  0.672889   -0.0303508  -0.884855       0.576192   -0.79592    -0.523874\n",
       " -1.14054     2.38077     0.120169   …   1.05328     0.732359    0.0248948\n",
       "  1.19073    -0.209253   -0.0695556      1.25858     0.381319   -1.81693"
      ]
     },
     "execution_count": 60,
     "metadata": {},
     "output_type": "execute_result"
    }
   ],
   "source": [
    "#Hint:  see note below \n",
    "# your code here\n",
    "A = randn(17,8)\n",
    "#throw(ErrorException())"
   ]
  },
  {
   "cell_type": "code",
   "execution_count": null,
   "metadata": {
    "deletable": false,
    "editable": false,
    "nbgrader": {
     "cell_type": "code",
     "checksum": "f8d3ae9854036339351b26005daf383c",
     "grade": true,
     "grade_id": "problem5b_test",
     "locked": true,
     "points": 2,
     "schema_version": 3,
     "solution": false,
     "task": false
    }
   },
   "outputs": [],
   "source": [
    "#autograder cell\n",
    "#This is how all of your answers in the homework will be graded:\n",
    "#An autograder cell, like this one, will check certain elements of your answer against what they should be.\n",
    "#Normally, of course, the elements that are checked will be hidden. \n",
    "(nrow, ncol) = size(A) #do not change this line!"
   ]
  },
  {
   "cell_type": "markdown",
   "metadata": {},
   "source": [
    "**Note:  Other ways to build matrices**\n",
    "* use hcat and vcat to concatenate vectors together horizontally or vertically\n",
    "* use ones() or zeros(m, n) to create a m by n matrix of either ones or zeros\n",
    "* use Diagonal(M) to create a diagonal matrix from a vector M\n",
    "* Random functions\n",
    "    * rand(m, n) makes an m by n matrix of random numbers from a uniform distribution 0-1\n",
    "    * randn(m, n) m by n matrix from a standard normal distribution\n",
    "    * rand(X, m, n) m by n matrix of random numbers in an array X\n",
    "* use reshape(X, m, n) to turn a vector X into a matrix size m by n\n",
    "* use repeat(X, m ,n) to repeat matrix X m times in the row direction and n times in the column direction"
   ]
  },
  {
   "cell_type": "markdown",
   "metadata": {},
   "source": [
    "### Gee Whiz, ain't that cool!\n",
    "The below Epicycloid is a good reminder of what can be accomplished with Julia. Independently, our parametric equations for x and y are pretty simple, but when combined, they ca create something really interesting, as seen below. Play around with the values for a, b, and the upper bound of t - there are some beutiful patterns that can be achieved with the below functions.\n",
    "\n",
    "Note: See how we have to call cos.(t)? You'll see kind of syntax  later when we start talking about matrix operations, but that dot tells julia to apply the function to each vector element individually, rather than the entire vector at once. Very helpful!"
   ]
  },
  {
   "cell_type": "code",
   "execution_count": null,
   "metadata": {},
   "outputs": [],
   "source": [
    "using Plots\n",
    "t = 0 : 0.1 : 100\n",
    "a = 4\n",
    "b = 7\n",
    "x = (a + b)cos.(t) - b*cos.(((a/b) + 1)t)\n",
    "y = (a + b)sin.(t) - b*sin.(((a/b) + 1)t)\n",
    "plot(x, y, aspect_ration=:equal)"
   ]
  },
  {
   "cell_type": "code",
   "execution_count": null,
   "metadata": {},
   "outputs": [],
   "source": []
  },
  {
   "cell_type": "code",
   "execution_count": null,
   "metadata": {},
   "outputs": [],
   "source": []
  }
 ],
 "metadata": {
  "kernelspec": {
   "display_name": "Julia 1.6.1",
   "language": "julia",
   "name": "julia-1.6"
  },
  "language_info": {
   "file_extension": ".jl",
   "mimetype": "application/julia",
   "name": "julia",
   "version": "1.6.1"
  }
 },
 "nbformat": 4,
 "nbformat_minor": 4
}
